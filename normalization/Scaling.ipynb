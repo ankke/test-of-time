{
 "cells": [
  {
   "cell_type": "code",
   "execution_count": 1,
   "metadata": {},
   "outputs": [
    {
     "ename": "ImportError",
     "evalue": "cannot import name 'RandomForestModel' from 'tot.models.models_simple' (/Users/pediatria/Desktop/TUMai/test-of-time/tot/models/models_simple.py)",
     "output_type": "error",
     "traceback": [
      "\u001b[0;31m---------------------------------------------------------------------------\u001b[0m",
      "\u001b[0;31mImportError\u001b[0m                               Traceback (most recent call last)",
      "Cell \u001b[0;32mIn[1], line 7\u001b[0m\n\u001b[1;32m      4\u001b[0m \u001b[38;5;28;01mfrom\u001b[39;00m \u001b[38;5;21;01msklearn\u001b[39;00m\u001b[38;5;21;01m.\u001b[39;00m\u001b[38;5;21;01mpreprocessing\u001b[39;00m \u001b[38;5;28;01mimport\u001b[39;00m Normalizer, StandardScaler, PowerTransformer\n\u001b[1;32m      6\u001b[0m \u001b[38;5;28;01mfrom\u001b[39;00m \u001b[38;5;21;01mtot\u001b[39;00m\u001b[38;5;21;01m.\u001b[39;00m\u001b[38;5;21;01mdatasets\u001b[39;00m\u001b[38;5;21;01m.\u001b[39;00m\u001b[38;5;21;01mdataset\u001b[39;00m \u001b[38;5;28;01mimport\u001b[39;00m Dataset\n\u001b[0;32m----> 7\u001b[0m \u001b[38;5;28;01mfrom\u001b[39;00m \u001b[38;5;21;01mtot\u001b[39;00m\u001b[38;5;21;01m.\u001b[39;00m\u001b[38;5;21;01mmodels\u001b[39;00m\u001b[38;5;21;01m.\u001b[39;00m\u001b[38;5;21;01mmodels_simple\u001b[39;00m \u001b[38;5;28;01mimport\u001b[39;00m RandomForestModel, LinearRegressionModel\n\u001b[1;32m      8\u001b[0m \u001b[38;5;28;01mfrom\u001b[39;00m \u001b[38;5;21;01mtot\u001b[39;00m\u001b[38;5;21;01m.\u001b[39;00m\u001b[38;5;21;01mmodels\u001b[39;00m\u001b[38;5;21;01m.\u001b[39;00m\u001b[38;5;21;01mmodels_neuralprophet\u001b[39;00m \u001b[38;5;28;01mimport\u001b[39;00m NeuralProphetModel\n\u001b[1;32m      9\u001b[0m \u001b[38;5;28;01mfrom\u001b[39;00m \u001b[38;5;21;01mtot\u001b[39;00m\u001b[38;5;21;01m.\u001b[39;00m\u001b[38;5;21;01mbenchmark\u001b[39;00m \u001b[38;5;28;01mimport\u001b[39;00m SimpleBenchmark\n",
      "\u001b[0;31mImportError\u001b[0m: cannot import name 'RandomForestModel' from 'tot.models.models_simple' (/Users/pediatria/Desktop/TUMai/test-of-time/tot/models/models_simple.py)"
     ]
    }
   ],
   "source": [
    "import pandas as pd\n",
    "import numpy as np\n",
    "import plotly.graph_objects as go\n",
    "from sklearn.preprocessing import Normalizer, StandardScaler, PowerTransformer\n",
    "\n",
    "from tot.datasets.dataset import Dataset\n",
    "from tot.models.models_simple import RandomForestModel, LinearRegressionModel\n",
    "from tot.models.models_neuralprophet import NeuralProphetModel\n",
    "from tot.benchmark import SimpleBenchmark\n",
    "from tot.plotting import plot_plotly"
   ]
  },
  {
   "cell_type": "code",
   "execution_count": null,
   "metadata": {},
   "outputs": [],
   "source": [
    "data_location = \"https://raw.githubusercontent.com/ourownstory/neuralprophet-data/main/datasets/\"\n",
    "df_ercot = pd.read_csv(data_location + \"multivariate/load_ercot_regions.csv\")"
   ]
  },
  {
   "cell_type": "code",
   "execution_count": null,
   "metadata": {},
   "outputs": [],
   "source": [
    "regions = list(df_ercot)[1:]"
   ]
  },
  {
   "cell_type": "code",
   "execution_count": null,
   "metadata": {},
   "outputs": [],
   "source": [
    "df_global = pd.DataFrame()\n",
    "for col in regions:\n",
    "    aux = df_ercot[[\"ds\", col]].copy(deep=True)  \n",
    "    aux = aux.copy(deep=True) \n",
    "    aux = aux.iloc[:26301, :].copy(deep=True) \n",
    "    aux = aux.rename(columns={col: \"y\"})\n",
    "    aux[\"ID\"] = col\n",
    "    df_global = pd.concat((df_global, aux))"
   ]
  },
  {
   "cell_type": "code",
   "execution_count": null,
   "metadata": {},
   "outputs": [],
   "source": [
    "dataset_list = [\n",
    "    Dataset(df=df_global, name=\"df_global\", freq=\"H\"),\n",
    "]"
   ]
  },
  {
   "cell_type": "code",
   "execution_count": null,
   "metadata": {},
   "outputs": [],
   "source": [
    "N_FORECASTS = 1\n",
    "LR = 0.01\n",
    "EPOCHS = 20"
   ]
  },
  {
   "cell_type": "code",
   "execution_count": null,
   "metadata": {},
   "outputs": [],
   "source": [
    "model_classes_and_params = [\n",
    "    (NeuralProphetModel, {\n",
    "        \"n_lags\": 24,\n",
    "        \"n_forecasts\": N_FORECASTS,\n",
    "        \"learning_rate\": LR,\n",
    "        \"epochs\": EPOCHS,\n",
    "        \"global_normalization\": False, \n",
    "        \"global_time_normalization\": False,\n",
    "        \"normalize\": 'off',\n",
    "        \"scale\": False}),\n",
    "    (NeuralProphetModel, {\n",
    "        \"n_lags\": 24,\n",
    "        \"n_forecasts\": N_FORECASTS,\n",
    "        \"learning_rate\": LR,\n",
    "        \"epochs\": EPOCHS,\n",
    "        \"global_normalization\": False, \n",
    "        \"global_time_normalization\": False,\n",
    "        \"normalize\": 'off',\n",
    "        \"scale\": True}),\n",
    "    (RandomForestModel, {\"n_forecasts\": N_FORECASTS, \"lags\": 24, \"output_chunk_length\": N_FORECASTS, \"scale\": False}),\n",
    "    (RandomForestModel, {\"n_forecasts\": N_FORECASTS, \"lags\": 24, \"output_chunk_length\": N_FORECASTS, \"scale\": True}),\n",
    "\n",
    "]"
   ]
  },
  {
   "cell_type": "code",
   "execution_count": null,
   "metadata": {},
   "outputs": [],
   "source": [
    "benchmark = SimpleBenchmark(\n",
    "    model_classes_and_params=model_classes_and_params,\n",
    "    datasets=dataset_list,\n",
    "    metrics=[\"MAPE\"],\n",
    "    test_percentage=0.25,\n",
    ")"
   ]
  },
  {
   "cell_type": "code",
   "execution_count": null,
   "metadata": {},
   "outputs": [],
   "source": [
    "results_train, results_test = benchmark.run(verbose=True)"
   ]
  },
  {
   "cell_type": "code",
   "execution_count": null,
   "metadata": {},
   "outputs": [],
   "source": [
    "def plot_forecast(df, regions=regions):\n",
    "    fig = go.Figure()\n",
    "\n",
    "    for region in regions:\n",
    "        fig.add_trace(\n",
    "            go.Scatter(\n",
    "                name=region + ' predicted', \n",
    "                x=df[df['ID'] == region]['ds'], \n",
    "                y=df[df['ID'] == region]['yhat1']))\n",
    "        fig.add_trace(\n",
    "            go.Scatter(\n",
    "                name=region + ' actual', \n",
    "                mode=\"markers\",\n",
    "                x=df[df['ID'] == region]['ds'], \n",
    "                y=df[df['ID'] == region]['y']))\n",
    "    fig.show()"
   ]
  },
  {
   "cell_type": "code",
   "execution_count": null,
   "metadata": {
    "scrolled": true
   },
   "outputs": [],
   "source": [
    "plot_forecast(benchmark.fcst_test[0], regions=[\"NORTH_C\", \"WEST\"])"
   ]
  },
  {
   "cell_type": "code",
   "execution_count": null,
   "metadata": {},
   "outputs": [],
   "source": [
    "plot_forecast(benchmark.fcst_test[1], regions=[\"NORTH_C\", \"WEST\"])"
   ]
  },
  {
   "cell_type": "code",
   "execution_count": null,
   "metadata": {},
   "outputs": [],
   "source": [
    "plot_forecast(benchmark.fcst_test[2], regions=[\"NORTH_C\", \"WEST\"])"
   ]
  },
  {
   "cell_type": "code",
   "execution_count": null,
   "metadata": {},
   "outputs": [],
   "source": [
    "plot_forecast(benchmark.fcst_test[3], regions=[\"NORTH_C\", \"WEST\"])"
   ]
  }
 ],
 "metadata": {
  "kernelspec": {
   "display_name": "tot",
   "language": "python",
   "name": "tot"
  },
  "language_info": {
   "codemirror_mode": {
    "name": "ipython",
    "version": 3
   },
   "file_extension": ".py",
   "mimetype": "text/x-python",
   "name": "python",
   "nbconvert_exporter": "python",
   "pygments_lexer": "ipython3",
   "version": "3.8.5"
  }
 },
 "nbformat": 4,
 "nbformat_minor": 4
}
