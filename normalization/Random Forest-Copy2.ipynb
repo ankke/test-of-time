{
 "cells": [
  {
   "cell_type": "code",
   "execution_count": 1,
   "metadata": {},
   "outputs": [],
   "source": [
    "import pandas as pd\n",
    "import numpy as np\n",
    "import plotly.graph_objects as go\n",
    "from sklearn.preprocessing import StandardScaler\n",
    "\n",
    "from tot.datasets.dataset import Dataset\n",
    "from tot.models.models_simple import RandomForestModel, LinearRegressionModel\n",
    "from tot.models.models_neuralprophet import NeuralProphetModel\n",
    "from tot.benchmark import SimpleBenchmark"
   ]
  },
  {
   "cell_type": "code",
   "execution_count": 2,
   "metadata": {},
   "outputs": [],
   "source": [
    "data_location = \"https://raw.githubusercontent.com/ourownstory/neuralprophet-data/main/datasets/\"\n",
    "df_ercot = pd.read_csv(data_location + \"multivariate/load_ercot_regions.csv\")"
   ]
  },
  {
   "cell_type": "code",
   "execution_count": 3,
   "metadata": {},
   "outputs": [],
   "source": [
    "regions = list(df_ercot)[1:]"
   ]
  },
  {
   "cell_type": "code",
   "execution_count": 4,
   "metadata": {},
   "outputs": [],
   "source": [
    "df_global = pd.DataFrame()\n",
    "for col in regions:\n",
    "    aux = df_ercot[[\"ds\", col]].copy(deep=True)  \n",
    "    aux = aux.copy(deep=True) \n",
    "    aux = aux.iloc[:26301, :].copy(deep=True) \n",
    "    aux = aux.rename(columns={col: \"y\"})\n",
    "    aux[\"ID\"] = col\n",
    "    df_global = pd.concat((df_global, aux))"
   ]
  },
  {
   "cell_type": "code",
   "execution_count": 5,
   "metadata": {},
   "outputs": [],
   "source": [
    "dataset_list = [\n",
    "    Dataset(df=df_global, name=\"df_global\", freq=\"H\"),\n",
    "]"
   ]
  },
  {
   "cell_type": "code",
   "execution_count": 6,
   "metadata": {},
   "outputs": [],
   "source": [
    "N_FORECASTS = 1\n",
    "LR = 0.01\n",
    "EPOCHS = 20"
   ]
  },
  {
   "cell_type": "code",
   "execution_count": 7,
   "metadata": {},
   "outputs": [],
   "source": [
    "model_classes_and_params = [\n",
    "    (RandomForestModel, {\"n_forecasts\": N_FORECASTS, \"lags\": 24, \"output_chunk_length\": N_FORECASTS}),\n",
    "    (NeuralProphetModel, {\n",
    "        \"n_lags\": 24,\n",
    "        \"n_forecasts\": N_FORECASTS,\n",
    "        \"learning_rate\": LR,\n",
    "        \"epochs\": EPOCHS})\n",
    "]"
   ]
  },
  {
   "cell_type": "code",
   "execution_count": 8,
   "metadata": {},
   "outputs": [],
   "source": [
    "benchmark = SimpleBenchmark(\n",
    "    model_classes_and_params=model_classes_and_params,\n",
    "    datasets=dataset_list,\n",
    "    metrics=[\"MAPE\"],\n",
    "    test_percentage=0.25,\n",
    ")"
   ]
  },
  {
   "cell_type": "code",
   "execution_count": null,
   "metadata": {},
   "outputs": [
    {
     "name": "stderr",
     "output_type": "stream",
     "text": [
      "3 missing values in column y were detected in total. \n",
      "3 missing values in column y were detected in total. \n",
      "3 missing values in column y were detected in total. \n",
      "3 missing values in column y were detected in total. \n",
      "3 missing values in column y were detected in total. \n",
      "3 missing values in column y were detected in total. \n",
      "3 missing values in column y were detected in total. \n",
      "3 missing values in column y were detected in total. \n"
     ]
    },
    {
     "data": {
      "application/vnd.jupyter.widget-view+json": {
       "model_id": "a3498d945f3a4287a595d02de9d917b3",
       "version_major": 2,
       "version_minor": 0
      },
      "text/plain": [
       "  0%|          | 0/19704 [00:00<?, ?it/s]"
      ]
     },
     "metadata": {},
     "output_type": "display_data"
    }
   ],
   "source": [
    "results_train, results_test = benchmark.run(verbose=True)"
   ]
  },
  {
   "cell_type": "code",
   "execution_count": null,
   "metadata": {},
   "outputs": [],
   "source": [
    "results_train"
   ]
  },
  {
   "cell_type": "code",
   "execution_count": null,
   "metadata": {},
   "outputs": [],
   "source": [
    "results_test"
   ]
  },
  {
   "cell_type": "code",
   "execution_count": null,
   "metadata": {},
   "outputs": [],
   "source": [
    "def plot_forecast(df, regions=regions):\n",
    "    fig = go.Figure()\n",
    "\n",
    "    for region in regions:\n",
    "        fig.add_trace(\n",
    "            go.Scatter(\n",
    "                name=region + ' predicted', \n",
    "                x=df[df['ID'] == region]['ds'], \n",
    "                y=df[df['ID'] == region]['yhat1']))\n",
    "        fig.add_trace(\n",
    "            go.Scatter(\n",
    "                name=region + ' actual', \n",
    "                mode=\"markers\",\n",
    "                x=df[df['ID'] == region]['ds'], \n",
    "                y=df[df['ID'] == region]['y']))\n",
    "    fig.show()"
   ]
  },
  {
   "cell_type": "code",
   "execution_count": null,
   "metadata": {
    "scrolled": false
   },
   "outputs": [],
   "source": [
    "plot_forecast(benchmark.fcst_test[0], regions=[\"NORTH_C\", \"WEST\"])"
   ]
  },
  {
   "cell_type": "code",
   "execution_count": null,
   "metadata": {},
   "outputs": [],
   "source": [
    "plot_forecast(benchmark.fcst_test[1], regions=[\"NORTH_C\", \"WEST\"])"
   ]
  },
  {
   "cell_type": "code",
   "execution_count": null,
   "metadata": {},
   "outputs": [],
   "source": []
  }
 ],
 "metadata": {
  "kernelspec": {
   "display_name": "tot",
   "language": "python",
   "name": "tot"
  },
  "language_info": {
   "codemirror_mode": {
    "name": "ipython",
    "version": 3
   },
   "file_extension": ".py",
   "mimetype": "text/x-python",
   "name": "python",
   "nbconvert_exporter": "python",
   "pygments_lexer": "ipython3",
   "version": "3.8.5"
  }
 },
 "nbformat": 4,
 "nbformat_minor": 4
}
