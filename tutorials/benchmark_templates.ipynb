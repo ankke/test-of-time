{
 "cells": [
  {
   "cell_type": "markdown",
   "metadata": {},
   "source": [
    "[![Open In Colab](https://colab.research.google.com/assets/colab-badge.svg)](https://github.com/ourownstory/test-of-time/blob/main/tutorials/BenchmarkingTemplates.ipynb)"
   ]
  },
  {
   "cell_type": "markdown",
   "metadata": {
    "tags": []
   },
   "source": [
    "# Running benchmarking experiments\n",
    "Note: The Benchmarking Framework does currently not properly support lagged covariates with multiple step ahead forecasts."
   ]
  },
  {
   "cell_type": "code",
   "execution_count": 1,
   "metadata": {},
   "outputs": [],
   "source": [
    "if 'google.colab' in str(get_ipython()):\n",
    "    !pip install git+https://github.com/ourownstory/test-of-time.git # may take a while\n",
    "    #!pip install neuralprophet # much faster, but may not have the latest upgrades/bugfixes\n",
    "\n",
    "# we also need prophet for this notebook\n",
    "# !pip install prophet\n",
    "\n",
    "import pandas as pd\n",
    "from neuralprophet import NeuralProphet, set_log_level\n",
    "from tot.datasets import Dataset\n",
    "from tot.models.models_neuralprophet import NeuralProphetModel\n",
    "from tot.models.models_prophet import ProphetModel\n",
    "from tot.benchmark import SimpleBenchmark, CrossValidationBenchmark\n",
    "set_log_level(\"ERROR\")"
   ]
  },
  {
   "cell_type": "markdown",
   "metadata": {},
   "source": [
    "## Load data"
   ]
  },
  {
   "cell_type": "code",
   "execution_count": 2,
   "metadata": {},
   "outputs": [],
   "source": [
    "data_location = \"https://raw.githubusercontent.com/ourownstory/neuralprophet-data/main/datasets/\"\n",
    "\n",
    "air_passengers_df = pd.read_csv(data_location + 'air_passengers.csv')\n",
    "peyton_manning_df = pd.read_csv(data_location + 'wp_log_peyton_manning.csv')"
   ]
  },
  {
   "cell_type": "markdown",
   "metadata": {
    "tags": []
   },
   "source": [
    "## 0. Configure Datasets and Model Parameters\n",
    "First, we define the datasets that we would like to benchmark on.\n",
    "Next, we define the models that we want to evaluate and set their hyperparameters."
   ]
  },
  {
   "cell_type": "code",
   "execution_count": 3,
   "metadata": {},
   "outputs": [],
   "source": [
    "dataset_list = [\n",
    "    Dataset(df = air_passengers_df, name = \"air_passengers\", freq = \"MS\"),\n",
    "    Dataset(df = peyton_manning_df, name = \"peyton_manning\", freq = \"D\"),\n",
    "]\n",
    "model_classes_and_params = [\n",
    "    (NeuralProphetModel, {\"seasonality_mode\": \"multiplicative\", \"learning_rate\": 0.1}),\n",
    "    (ProphetModel, {\"seasonality_mode\": \"multiplicative\"})\n",
    "]"
   ]
  },
  {
   "cell_type": "markdown",
   "metadata": {},
   "source": [
    "Note: As all the classes used in the Benchmark framework are dataclasses, \n",
    "they have a print function, allowing us to peek into them if we like:"
   ]
  },
  {
   "cell_type": "code",
   "execution_count": 4,
   "metadata": {},
   "outputs": [
    {
     "data": {
      "text/plain": [
       "[(tot.models.models_neuralprophet.NeuralProphetModel,\n",
       "  {'seasonality_mode': 'multiplicative', 'learning_rate': 0.1}),\n",
       " (tot.models.models_prophet.ProphetModel,\n",
       "  {'seasonality_mode': 'multiplicative'})]"
      ]
     },
     "execution_count": 4,
     "metadata": {},
     "output_type": "execute_result"
    }
   ],
   "source": [
    "model_classes_and_params"
   ]
  },
  {
   "cell_type": "markdown",
   "metadata": {},
   "source": [
    "## 3. Manual Benchmark\n",
    "If you need more control over the individual Experiments, you can set them up manually:"
   ]
  },
  {
   "cell_type": "code",
   "execution_count": 5,
   "metadata": {},
   "outputs": [],
   "source": [
    "from tot.experiment import SimpleExperiment, CrossValidationExperiment\n",
    "from tot.benchmark import ManualBenchmark, ManualCVBenchmark"
   ]
  },
  {
   "cell_type": "markdown",
   "metadata": {},
   "source": [
    "### 3.1 ManualBenchmark: Manual SimpleExperiment Benchmark"
   ]
  },
  {
   "cell_type": "code",
   "execution_count": 10,
   "metadata": {},
   "outputs": [
    {
     "name": "stderr",
     "output_type": "stream",
     "text": [
      "WARNING - (py.warnings._showwarnmsg) - /Users/pediatria/Desktop/TUMai/test-of-time/tot/df_utils.py:588: FutureWarning: Not prepending group keys to the result index of transform-like apply. In the future, the group keys will be included in the index, regardless of whether the applied function returns a like-indexed object.\n",
      "To preserve the previous behavior, use\n",
      "\n",
      "\t>>> .groupby(..., group_keys=False)\n",
      "\n",
      "To adopt the future behavior and silence this warning, use \n",
      "\n",
      "\t>>> .groupby(..., group_keys=True)\n",
      "  predicted_new = predicted.groupby(\"ID\").apply(lambda x: x[samples:]).reset_index(drop=True)\n",
      "\n",
      "WARNING - (py.warnings._showwarnmsg) - /Users/pediatria/Desktop/TUMai/test-of-time/tot/df_utils.py:588: FutureWarning: Not prepending group keys to the result index of transform-like apply. In the future, the group keys will be included in the index, regardless of whether the applied function returns a like-indexed object.\n",
      "To preserve the previous behavior, use\n",
      "\n",
      "\t>>> .groupby(..., group_keys=False)\n",
      "\n",
      "To adopt the future behavior and silence this warning, use \n",
      "\n",
      "\t>>> .groupby(..., group_keys=True)\n",
      "  predicted_new = predicted.groupby(\"ID\").apply(lambda x: x[samples:]).reset_index(drop=True)\n",
      "\n",
      "17:56:04 - cmdstanpy - INFO - Chain [1] start processing\n",
      "17:56:04 - cmdstanpy - INFO - Chain [1] done processing\n"
     ]
    }
   ],
   "source": [
    "metrics = [\"RMSE\", \"MAPE\"]\n",
    "experiments = [\n",
    "    SimpleExperiment(\n",
    "        model_class=NeuralProphetModel,\n",
    "        params={\"seasonality_mode\": \"multiplicative\", \"learning_rate\": 0.1},\n",
    "        data=Dataset(df=air_passengers_df, name=\"air_passengers\", freq=\"MS\"),\n",
    "        metrics=metrics,\n",
    "        test_percentage=0.25,\n",
    "    ),\n",
    "    SimpleExperiment(\n",
    "        model_class=ProphetModel,\n",
    "        params={\"seasonality_mode\": \"multiplicative\", },\n",
    "        data=Dataset(df=air_passengers_df, name=\"air_passengers\", freq=\"MS\"),\n",
    "        metrics=metrics,\n",
    "        test_percentage=0.25,\n",
    "    )\n",
    "]\n",
    "benchmark = ManualBenchmark(\n",
    "    experiments=experiments,\n",
    "    metrics=metrics,\n",
    ")\n",
    "results_train, results_test = benchmark.run()"
   ]
  },
  {
   "cell_type": "code",
   "execution_count": 11,
   "metadata": {},
   "outputs": [
    {
     "data": {
      "text/html": [
       "<div>\n",
       "<style scoped>\n",
       "    .dataframe tbody tr th:only-of-type {\n",
       "        vertical-align: middle;\n",
       "    }\n",
       "\n",
       "    .dataframe tbody tr th {\n",
       "        vertical-align: top;\n",
       "    }\n",
       "\n",
       "    .dataframe thead th {\n",
       "        text-align: right;\n",
       "    }\n",
       "</style>\n",
       "<table border=\"1\" class=\"dataframe\">\n",
       "  <thead>\n",
       "    <tr style=\"text-align: right;\">\n",
       "      <th></th>\n",
       "      <th>data</th>\n",
       "      <th>model</th>\n",
       "      <th>params</th>\n",
       "      <th>experiment</th>\n",
       "      <th>RMSE</th>\n",
       "      <th>MAPE</th>\n",
       "    </tr>\n",
       "  </thead>\n",
       "  <tbody>\n",
       "    <tr>\n",
       "      <th>0</th>\n",
       "      <td>air_passengers</td>\n",
       "      <td>NeuralProphet</td>\n",
       "      <td>{'seasonality_mode': 'multiplicative', 'learni...</td>\n",
       "      <td>air_passengers_NeuralProphet_seasonality_mode_...</td>\n",
       "      <td>41.886112</td>\n",
       "      <td>9.221118</td>\n",
       "    </tr>\n",
       "    <tr>\n",
       "      <th>1</th>\n",
       "      <td>air_passengers</td>\n",
       "      <td>Prophet</td>\n",
       "      <td>{'seasonality_mode': 'multiplicative', '_data_...</td>\n",
       "      <td>air_passengers_Prophet_seasonality_mode_multip...</td>\n",
       "      <td>33.422844</td>\n",
       "      <td>7.379519</td>\n",
       "    </tr>\n",
       "  </tbody>\n",
       "</table>\n",
       "</div>"
      ],
      "text/plain": [
       "             data          model  \\\n",
       "0  air_passengers  NeuralProphet   \n",
       "1  air_passengers        Prophet   \n",
       "\n",
       "                                              params  \\\n",
       "0  {'seasonality_mode': 'multiplicative', 'learni...   \n",
       "1  {'seasonality_mode': 'multiplicative', '_data_...   \n",
       "\n",
       "                                          experiment       RMSE      MAPE  \n",
       "0  air_passengers_NeuralProphet_seasonality_mode_...  41.886112  9.221118  \n",
       "1  air_passengers_Prophet_seasonality_mode_multip...  33.422844  7.379519  "
      ]
     },
     "execution_count": 11,
     "metadata": {},
     "output_type": "execute_result"
    }
   ],
   "source": [
    "results_test"
   ]
  },
  {
   "cell_type": "markdown",
   "metadata": {},
   "source": [
    "### 3.2 ManualCVBenchmark: Manual CrossValidationExperiment Benchmark"
   ]
  },
  {
   "cell_type": "code",
   "execution_count": 12,
   "metadata": {},
   "outputs": [
    {
     "name": "stderr",
     "output_type": "stream",
     "text": [
      "WARNING - (py.warnings._showwarnmsg) - /Users/pediatria/Desktop/TUMai/test-of-time/tot/df_utils.py:588: FutureWarning: Not prepending group keys to the result index of transform-like apply. In the future, the group keys will be included in the index, regardless of whether the applied function returns a like-indexed object.\n",
      "To preserve the previous behavior, use\n",
      "\n",
      "\t>>> .groupby(..., group_keys=False)\n",
      "\n",
      "To adopt the future behavior and silence this warning, use \n",
      "\n",
      "\t>>> .groupby(..., group_keys=True)\n",
      "  predicted_new = predicted.groupby(\"ID\").apply(lambda x: x[samples:]).reset_index(drop=True)\n",
      "\n",
      "WARNING - (py.warnings._showwarnmsg) - /Users/pediatria/Desktop/TUMai/test-of-time/tot/df_utils.py:588: FutureWarning: Not prepending group keys to the result index of transform-like apply. In the future, the group keys will be included in the index, regardless of whether the applied function returns a like-indexed object.\n",
      "To preserve the previous behavior, use\n",
      "\n",
      "\t>>> .groupby(..., group_keys=False)\n",
      "\n",
      "To adopt the future behavior and silence this warning, use \n",
      "\n",
      "\t>>> .groupby(..., group_keys=True)\n",
      "  predicted_new = predicted.groupby(\"ID\").apply(lambda x: x[samples:]).reset_index(drop=True)\n",
      "\n",
      "WARNING - (py.warnings._showwarnmsg) - /Users/pediatria/Desktop/TUMai/test-of-time/tot/df_utils.py:588: FutureWarning: Not prepending group keys to the result index of transform-like apply. In the future, the group keys will be included in the index, regardless of whether the applied function returns a like-indexed object.\n",
      "To preserve the previous behavior, use\n",
      "\n",
      "\t>>> .groupby(..., group_keys=False)\n",
      "\n",
      "To adopt the future behavior and silence this warning, use \n",
      "\n",
      "\t>>> .groupby(..., group_keys=True)\n",
      "  predicted_new = predicted.groupby(\"ID\").apply(lambda x: x[samples:]).reset_index(drop=True)\n",
      "\n",
      "WARNING - (py.warnings._showwarnmsg) - /Users/pediatria/Desktop/TUMai/test-of-time/tot/df_utils.py:588: FutureWarning: Not prepending group keys to the result index of transform-like apply. In the future, the group keys will be included in the index, regardless of whether the applied function returns a like-indexed object.\n",
      "To preserve the previous behavior, use\n",
      "\n",
      "\t>>> .groupby(..., group_keys=False)\n",
      "\n",
      "To adopt the future behavior and silence this warning, use \n",
      "\n",
      "\t>>> .groupby(..., group_keys=True)\n",
      "  predicted_new = predicted.groupby(\"ID\").apply(lambda x: x[samples:]).reset_index(drop=True)\n",
      "\n",
      "WARNING - (py.warnings._showwarnmsg) - /Users/pediatria/Desktop/TUMai/test-of-time/tot/df_utils.py:588: FutureWarning: Not prepending group keys to the result index of transform-like apply. In the future, the group keys will be included in the index, regardless of whether the applied function returns a like-indexed object.\n",
      "To preserve the previous behavior, use\n",
      "\n",
      "\t>>> .groupby(..., group_keys=False)\n",
      "\n",
      "To adopt the future behavior and silence this warning, use \n",
      "\n",
      "\t>>> .groupby(..., group_keys=True)\n",
      "  predicted_new = predicted.groupby(\"ID\").apply(lambda x: x[samples:]).reset_index(drop=True)\n",
      "\n",
      "WARNING - (py.warnings._showwarnmsg) - /Users/pediatria/Desktop/TUMai/test-of-time/tot/df_utils.py:588: FutureWarning: Not prepending group keys to the result index of transform-like apply. In the future, the group keys will be included in the index, regardless of whether the applied function returns a like-indexed object.\n",
      "To preserve the previous behavior, use\n",
      "\n",
      "\t>>> .groupby(..., group_keys=False)\n",
      "\n",
      "To adopt the future behavior and silence this warning, use \n",
      "\n",
      "\t>>> .groupby(..., group_keys=True)\n",
      "  predicted_new = predicted.groupby(\"ID\").apply(lambda x: x[samples:]).reset_index(drop=True)\n",
      "\n",
      "17:56:42 - cmdstanpy - INFO - Chain [1] start processing\n",
      "17:56:42 - cmdstanpy - INFO - Chain [1] done processing\n",
      "17:56:43 - cmdstanpy - INFO - Chain [1] start processing\n",
      "17:56:43 - cmdstanpy - INFO - Chain [1] done processing\n",
      "17:56:43 - cmdstanpy - INFO - Chain [1] start processing\n",
      "17:56:43 - cmdstanpy - INFO - Chain [1] done processing\n"
     ]
    }
   ],
   "source": [
    "air_passengers_df = pd.read_csv(data_location + 'air_passengers.csv')\n",
    "experiments = [\n",
    "    CrossValidationExperiment(\n",
    "        model_class=NeuralProphetModel,\n",
    "        params={\"seasonality_mode\": \"multiplicative\", \"learning_rate\": 0.1},\n",
    "        data=Dataset(df=air_passengers_df, name=\"air_passengers\", freq=\"MS\"),\n",
    "        metrics=metrics,\n",
    "        test_percentage=0.10,\n",
    "        num_folds=3,\n",
    "        fold_overlap_pct=0,\n",
    "    ),\n",
    "    CrossValidationExperiment(\n",
    "        model_class=ProphetModel,\n",
    "        params={\"seasonality_mode\": \"multiplicative\", },\n",
    "        data=Dataset(df=air_passengers_df, name=\"air_passengers\", freq=\"MS\"),\n",
    "        metrics=metrics,\n",
    "        test_percentage=0.10,\n",
    "        num_folds=3,\n",
    "        fold_overlap_pct=0,\n",
    "    ),\n",
    "]\n",
    "benchmark_cv = ManualCVBenchmark(\n",
    "    experiments=experiments,\n",
    "    metrics=metrics,\n",
    ")\n",
    "results_summary, results_train, results_test = benchmark_cv.run()"
   ]
  },
  {
   "cell_type": "code",
   "execution_count": 13,
   "metadata": {},
   "outputs": [
    {
     "data": {
      "text/html": [
       "<div>\n",
       "<style scoped>\n",
       "    .dataframe tbody tr th:only-of-type {\n",
       "        vertical-align: middle;\n",
       "    }\n",
       "\n",
       "    .dataframe tbody tr th {\n",
       "        vertical-align: top;\n",
       "    }\n",
       "\n",
       "    .dataframe thead th {\n",
       "        text-align: right;\n",
       "    }\n",
       "</style>\n",
       "<table border=\"1\" class=\"dataframe\">\n",
       "  <thead>\n",
       "    <tr style=\"text-align: right;\">\n",
       "      <th></th>\n",
       "      <th>data</th>\n",
       "      <th>model</th>\n",
       "      <th>params</th>\n",
       "      <th>experiment</th>\n",
       "      <th>RMSE</th>\n",
       "      <th>MAPE</th>\n",
       "      <th>RMSE_std</th>\n",
       "      <th>MAPE_std</th>\n",
       "      <th>split</th>\n",
       "    </tr>\n",
       "  </thead>\n",
       "  <tbody>\n",
       "    <tr>\n",
       "      <th>0</th>\n",
       "      <td>air_passengers</td>\n",
       "      <td>NeuralProphet</td>\n",
       "      <td>{'seasonality_mode': 'multiplicative', 'learni...</td>\n",
       "      <td>air_passengers_NeuralProphet_seasonality_mode_...</td>\n",
       "      <td>16.233139</td>\n",
       "      <td>5.936355</td>\n",
       "      <td>3.077817</td>\n",
       "      <td>0.860741</td>\n",
       "      <td>train</td>\n",
       "    </tr>\n",
       "    <tr>\n",
       "      <th>1</th>\n",
       "      <td>air_passengers</td>\n",
       "      <td>Prophet</td>\n",
       "      <td>{'seasonality_mode': 'multiplicative', '_data_...</td>\n",
       "      <td>air_passengers_Prophet_seasonality_mode_multip...</td>\n",
       "      <td>8.608308</td>\n",
       "      <td>3.087285</td>\n",
       "      <td>1.222968</td>\n",
       "      <td>0.241571</td>\n",
       "      <td>train</td>\n",
       "    </tr>\n",
       "    <tr>\n",
       "      <th>0</th>\n",
       "      <td>air_passengers</td>\n",
       "      <td>NeuralProphet</td>\n",
       "      <td>{'seasonality_mode': 'multiplicative', 'learni...</td>\n",
       "      <td>air_passengers_NeuralProphet_seasonality_mode_...</td>\n",
       "      <td>35.846287</td>\n",
       "      <td>7.116955</td>\n",
       "      <td>1.583491</td>\n",
       "      <td>1.154174</td>\n",
       "      <td>test</td>\n",
       "    </tr>\n",
       "    <tr>\n",
       "      <th>1</th>\n",
       "      <td>air_passengers</td>\n",
       "      <td>Prophet</td>\n",
       "      <td>{'seasonality_mode': 'multiplicative', '_data_...</td>\n",
       "      <td>air_passengers_Prophet_seasonality_mode_multip...</td>\n",
       "      <td>22.995789</td>\n",
       "      <td>4.639229</td>\n",
       "      <td>4.465790</td>\n",
       "      <td>0.721707</td>\n",
       "      <td>test</td>\n",
       "    </tr>\n",
       "  </tbody>\n",
       "</table>\n",
       "</div>"
      ],
      "text/plain": [
       "             data          model  \\\n",
       "0  air_passengers  NeuralProphet   \n",
       "1  air_passengers        Prophet   \n",
       "0  air_passengers  NeuralProphet   \n",
       "1  air_passengers        Prophet   \n",
       "\n",
       "                                              params  \\\n",
       "0  {'seasonality_mode': 'multiplicative', 'learni...   \n",
       "1  {'seasonality_mode': 'multiplicative', '_data_...   \n",
       "0  {'seasonality_mode': 'multiplicative', 'learni...   \n",
       "1  {'seasonality_mode': 'multiplicative', '_data_...   \n",
       "\n",
       "                                          experiment       RMSE      MAPE  \\\n",
       "0  air_passengers_NeuralProphet_seasonality_mode_...  16.233139  5.936355   \n",
       "1  air_passengers_Prophet_seasonality_mode_multip...   8.608308  3.087285   \n",
       "0  air_passengers_NeuralProphet_seasonality_mode_...  35.846287  7.116955   \n",
       "1  air_passengers_Prophet_seasonality_mode_multip...  22.995789  4.639229   \n",
       "\n",
       "   RMSE_std  MAPE_std  split  \n",
       "0  3.077817  0.860741  train  \n",
       "1  1.222968  0.241571  train  \n",
       "0  1.583491  1.154174   test  \n",
       "1  4.465790  0.721707   test  "
      ]
     },
     "execution_count": 13,
     "metadata": {},
     "output_type": "execute_result"
    }
   ],
   "source": [
    "results_summary"
   ]
  },
  {
   "cell_type": "code",
   "execution_count": null,
   "metadata": {},
   "outputs": [],
   "source": []
  }
 ],
 "metadata": {
  "kernelspec": {
   "display_name": "tot",
   "language": "python",
   "name": "tot"
  },
  "language_info": {
   "codemirror_mode": {
    "name": "ipython",
    "version": 3
   },
   "file_extension": ".py",
   "mimetype": "text/x-python",
   "name": "python",
   "nbconvert_exporter": "python",
   "pygments_lexer": "ipython3",
   "version": "3.8.5"
  }
 },
 "nbformat": 4,
 "nbformat_minor": 5
}
