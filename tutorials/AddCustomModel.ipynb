{
 "cells": [
  {
   "cell_type": "markdown",
   "metadata": {
    "collapsed": true,
    "pycharm": {
     "name": "#%% md\n"
    }
   },
   "source": [
    "# Add a custom forecasting model\n",
    "\n",
    "This notebook provides a minimal example on how to add a custom forecasting\n",
    "model to Test-of-time.\n",
    "The example further illustrates how to use it in the Test-of-time ecosystem\n",
    "for data loading and model evaluation.\n",
    "We choose to implement the **seasonal naive forecasting model** available in the **darts** library."
   ]
  },
  {
   "cell_type": "markdown",
   "source": [
    "**TL;DR:** To implement a new model, you need follow these steps:\n",
    "\n",
    "* **Step 1:** Implement a new model class that inherits from the abstract class\n",
    "`test_of_time.tot.models.Model`.\n",
    "* **Step 2:** Implement the `__post_init__()` to initialize the required class attributes\n",
    "* **Step 3:** Implement the abstract `fit()` method\n",
    "* **Step 4:** Implement the abstract `predict()` returning the model's forecast\n",
    "* **Step 5:** Implement the parent class method `maybe_extend_df()` and `maybe_drop_added_values_from_df()` for\n",
    "model-specific pre-/ post-processing\n",
    "* **Step 6:** Using your new model in a simple benchmark\n"
   ],
   "metadata": {
    "collapsed": false,
    "pycharm": {
     "name": "#%% md\n"
    }
   }
  },
  {
   "cell_type": "code",
   "execution_count": 28,
   "outputs": [],
   "source": [
    "#imports\n",
    "from tot.models import Model\n",
    "from tot.utils import convert_df_to_TimeSeries, _predict_darts_model\n",
    "from tot.df_utils import _check_min_df_len, prep_or_copy_df, add_first_inputs_to_df, drop_first_inputs_from_df\n",
    "from dataclasses import dataclass\n",
    "from typing import Type\n",
    "\n",
    "from copy import deepcopy\n",
    "try:\n",
    "    from darts.models import NaiveSeasonal\n",
    "\n",
    "    _darts_installed = True\n",
    "except ImportError:\n",
    "    RegressionModel = None\n",
    "    _darts_installed = False\n",
    "    raise ImportError(\n",
    "        \"The NaiveSeasonal could not be imported.\"\n",
    "        \"Check for proper installation of darts: https://github.com/unit8co/darts/blob/master/INSTALL.md\"\n",
    "    )"
   ],
   "metadata": {
    "collapsed": false,
    "pycharm": {
     "name": "#%%\n"
    }
   }
  },
  {
   "cell_type": "markdown",
   "source": [
    "## Step 1 - Implement new model class\n",
    "* We import the abstract base class `tot.models.Model` and define a new class with the name `CustomSeasonalNaiveModel`\n",
    "which inherits from `Model`. We want this class to be a dataclass and decorate it with `@dataclass` imported from\n",
    "`dataclasses`. We can see this class as a wrapper of the actual model we are adding which represents and interface between\n",
    "the test-of-time library and the model conventions. Hence, we will call it **model wrapper** in the following.\n",
    "* We assign the attribute `model_name` which is a non-optional attribute to `CustomSeasonalNaive`\n",
    "* Optional: If we import our custom model from another package, we would also assign the attribute `model_type`.\n",
    "In this case we assign it to `NaiveSeasonal` which we import from the **darts** library."
   ],
   "metadata": {
    "collapsed": false
   }
  },
  {
   "cell_type": "code",
   "execution_count": 12,
   "outputs": [],
   "source": [
    ">>> @dataclass\n",
    ">>> class CustomSeasonalNaiveModel(Model):\n",
    ">>>    model_name: str = \"CustomSeasonalNaive\"\n",
    ">>>    model_class: Type = NaiveSeasonal"
   ],
   "metadata": {
    "collapsed": false,
    "pycharm": {
     "name": "#%%\n"
    }
   }
  },
  {
   "cell_type": "markdown",
   "source": [
    "## Step 2 - Implement the `__post_init__()`\n",
    "We implement the `__post_init__()` to initialize the required model wrapper class attributes and local parameters.\n",
    "This includes the sub-steps: (1) installation check, (2) assign `model_params`, (3) re-assign `data_params`, and\n",
    " (4) assign and verify model wrapper attribute. Let's have a look at it step-by-step:\n",
    "\n",
    "* First, we check if the darts library was install to access the `NaiveSeasoal` model. Remark: In case we implement\n",
    "the custom model from scratch, we must not check for installation.\n",
    "* Next, we want to make sure that all model parameter that are relevant for model fitting and predicting are assigned.\n",
    "Therefore, we only extract the parameters that the custom model needs. The `NaiveSeasonal` needs 1 input parameters to\n",
    "make predictions, the `season_length`, which is the seasonal period in number of time steps. To instantiate the actual\n",
    "model, we pass the `model_params` to `model_class`.\n",
    "* Re-assign data parameters: Parameters like the seasonalities or the seasonality_mode are defined by the dataset\n",
    "and hence provided as a `_data_param`. In the `__post_init__()`. In this case, we assign the\n",
    "frequency to the model wrapper attribute `self.freq`.\n",
    "* Last we assigne the model wrapper attributes `season_length`, and `n_forecasts`,  which is the forecast horizon.\n",
    "For both attributes we verify valid inputs.\n",
    "\n",
    "Remark:This is the minimum required initialization, further attributes could be added."
   ],
   "metadata": {
    "collapsed": false,
    "pycharm": {
     "name": "#%% md\n"
    }
   }
  },
  {
   "cell_type": "code",
   "execution_count": 14,
   "outputs": [],
   "source": [
    ">>> def __post_init__(self):\n",
    ">>>         # check if installed\n",
    ">>>\n",
    ">>>         if not (_darts_installed):\n",
    ">>>             raise RuntimeError(\n",
    ">>>                 \"Requires darts and sklearn to be installed:\"\n",
    ">>>                 \"https://scikit-learn.org/stable/install.html\"\n",
    ">>>                 \"https://github.com/unit8co/darts/blob/master/INSTALL.md\"\n",
    ">>>             )\n",
    ">>>         # extract model parameters and instantiate actual model\n",
    ">>>         model_params = deepcopy(self.params)\n",
    ">>>         model_params.pop(\"_data_params\")\n",
    ">>>         model_params.pop(\"n_forecasts\")\n",
    ">>>         self.model = self.model_class(**model_params)\n",
    ">>>         # re-assign the data params\n",
    ">>>         data_params = self.params[\"_data_params\"]\n",
    ">>>         self.freq = data_params[\"freq\"]\n",
    ">>>\n",
    ">>>         # Set forecast horizon as model wrapper attribute horizon and verify\n",
    ">>>         self.n_forecasts = self.params[\"n_forecasts\"]\n",
    ">>>         assert self.n_forecasts >= 1, \"Model parameter n_forecasts must be >=1. \"\n",
    ">>>         # Set season length as model wrapper attribute horizon and verify\n",
    ">>>         self.season_length = model_params[\"K\"]\n",
    ">>>         assert self.season_length is not None, (\n",
    ">>>             \"Dataset does not provide a seasonality. Assign a seasonality to each of the datasets \"\n",
    ">>>             \"OR input desired season_length as model parameter to be used for all datasets \"\n",
    ">>>             \"without specified seasonality.\"\n",
    ">>>         )"
   ],
   "metadata": {
    "collapsed": false,
    "pycharm": {
     "name": "#%%\n"
    }
   }
  },
  {
   "cell_type": "markdown",
   "source": [
    "## Step 3 - Fit() method\n",
    "The `fit()` method of the model wrapper can be considered as an interface to the `fit()` method of the actual model.\n",
    "It includes the model-specific pre-processing of the data.\n",
    "* The model-specific pre-processing in this case comprises to check if the dataframe contains enough samples for fitting\n",
    " via calling `_check_min_df_len()` and converting the dataframe to the `TimeSeries` format from darts. Both functions\n",
    " are available as a helper function in test-of-time.\n",
    "* We pass the series of type `TimeSeries` to the `fit()` method of the instantiated model"
   ],
   "metadata": {
    "collapsed": false
   }
  },
  {
   "cell_type": "code",
   "execution_count": 16,
   "outputs": [],
   "source": [
    ">>> def fit(self, df: pd.DataFrame, freq: str):\n",
    ">>>     _check_min_df_len(df=df, min_len= self.n_forecasts + self.season_length)\n",
    ">>>     self.freq = freq\n",
    ">>>     series = convert_df_to_TimeSeries(df, value_cols=df.columns.values[1:-1].tolist(), freq=self.freq)\n",
    ">>>     self.model = self.model.fit(series)"
   ],
   "metadata": {
    "collapsed": false,
    "pycharm": {
     "name": "#%%\n"
    }
   }
  },
  {
   "cell_type": "markdown",
   "source": [
    "## Step 4 - Predict() method\n",
    "The `predict()` method of the model wrapper can be considered as an interface to the `predict()` method of the actual\n",
    "model. It includes the model-specific pre- and post-processing of the data.\n",
    "* The model-specific pre-processing in this case comprises to check if the dataframe contains enough samples for fitting\n",
    " via calling `_check_min_df_len()`. Optionally, a `maybe_extend_df()` can be implemented and called to extend the test\n",
    " with `season_length` samples of the train data with the intend to increase the test data amount. The overall benchmarking\n",
    "  pipeline will ensure that the `df_historic` is only passed for predicting on the test data.  Further the\n",
    " `prep_or_copy_df()` ensures that the dataframe has an `ID` column. Last we set the `n_req_past_obs` which for the\n",
    " `NaiveSeasonal` has to be greater than 3 and increase it by 1 to be consitent with the prediction range of darts model\n",
    " that have retraining activated.\n",
    "* Next, we predict the forecast by calling `_predict_darts_model()`. This function is an available wrapper to predict\n",
    "model from the darts library.\n",
    "* Last, we implement the model-specific post-processing, which comprises to drop the previously added samples via\n",
    "`maybe_drop_added_values_from_df()`.\n",
    "\n",
    "Remarks\n",
    "* Data format: Our input and output of the test-of-time environment is of type pd.Dataframe. In case we work with any\n",
    "other data format in between, in this case `TimeSeries`, we need to ensure to convert this data format from/to a\n",
    "pd.Dataframe. For darts model we offer a helper function `_predict_darts_model` that incorporates this capability.\n",
    "for the returned forecast.\n",
    "* Backtesting: Test-of-time is a framework that per default executes backtesting. That means it forecasts the selected\n",
    "forecast horizon in a rolling manner on the complete available data. Some libraries offer that capability along with\n",
    "their models. For other libraries, this procedure needs to be implemented in the `predict()` wrapper.\n",
    "rolling historical procedure"
   ],
   "metadata": {
    "collapsed": false
   }
  },
  {
   "cell_type": "code",
   "execution_count": 17,
   "outputs": [],
   "source": [
    ">>> def predict(self, df: pd.DataFrame, df_historic: pd.DataFrame = None):\n",
    ">>>     _check_min_df_len(df=df, min_len=1)\n",
    ">>>     if df_historic is not None:\n",
    ">>>         df = self.maybe_extend_df(df_historic, df)\n",
    ">>>     df, received_ID_col, received_single_time_series, _ = prep_or_copy_df(df)\n",
    ">>>     # min. past observations !> 3 and 1 needs to be added because retrain=True\n",
    ">>>     n_req_past_obs = 3 if self.season_length < 3 else self.season_length\n",
    ">>>     n_req_past_obs += 1\n",
    ">>>\n",
    ">>>     fcst_df = _predict_darts_model(df=df, model=self, n_req_past_obs=n_req_past_obs, n_req_future_obs=self.n_forecasts, retrain=True)\n",
    ">>>\n",
    ">>>     if df_historic is not None:\n",
    ">>>         fcst_df, df = self.maybe_drop_added_values_from_df(fcst_df, df)\n",
    ">>>     return fcst_df"
   ],
   "metadata": {
    "collapsed": false,
    "pycharm": {
     "name": "#%%\n"
    }
   }
  },
  {
   "cell_type": "markdown",
   "source": [
    "## Step 5 - Implement the parent class method\n",
    "The abstract parent class `Model` has 2 class methods `maybe_extend_df()` and `maybe_drop_added_values_from_df()` that\n",
    "must be reimplemented in case they should be active. Since we want to have the active for our custom model, we implement\n",
    "them.\n",
    "In the `maybe_extend_df()` we add `season_length` samples of the train dataframe to the test dataframe. In the\n",
    "`drop_first_inputs_from_df()` we will drop them again."
   ],
   "metadata": {
    "collapsed": false
   }
  },
  {
   "cell_type": "code",
   "execution_count": 18,
   "outputs": [],
   "source": [
    ">>> def maybe_extend_df(self, df_train, df_test):\n",
    ">>>     samples = self.season_length\n",
    ">>>     df_test = add_first_inputs_to_df(samples=samples, df_train=df_train, df_test=df_test)\n",
    ">>>     return df_test\n",
    "\n",
    ">>> def maybe_drop_added_values_from_df(self, predicted, df):\n",
    ">>>     samples = self.season_length\n",
    ">>>     predicted, df = drop_first_inputs_from_df(samples=samples, predicted=predicted, df=df)\n",
    ">>>     return predicted, df"
   ],
   "metadata": {
    "collapsed": false,
    "pycharm": {
     "name": "#%%\n"
    }
   }
  },
  {
   "cell_type": "markdown",
   "source": [
    "## Step 6 - Run your model in a benchmark\n",
    "\n",
    "Let's put together the whole new model class"
   ],
   "metadata": {
    "collapsed": false,
    "pycharm": {
     "name": "#%% md\n"
    }
   }
  },
  {
   "cell_type": "code",
   "execution_count": 20,
   "outputs": [],
   "source": [
    "@dataclass\n",
    "class CustomSeasonalNaiveModel(Model):\n",
    "    model_name: str = \"CustomSeasonalNaive\"\n",
    "    model_class: Type = NaiveSeasonal\n",
    "\n",
    "    def __post_init__(self):\n",
    "         # check if installed\n",
    "\n",
    "         if not (_darts_installed):\n",
    "             raise RuntimeError(\n",
    "                 \"Requires darts and sklearn to be installed:\"\n",
    "                 \"https://scikit-learn.org/stable/install.html\"\n",
    "                 \"https://github.com/unit8co/darts/blob/master/INSTALL.md\"\n",
    "             )\n",
    "         # extract model parameters and instantiate actual model\n",
    "         model_params = deepcopy(self.params)\n",
    "         model_params.pop(\"_data_params\")\n",
    "         model_params.pop(\"n_forecasts\")\n",
    "         self.model = self.model_class(**model_params)\n",
    "         # re-assign the data params\n",
    "         data_params = self.params[\"_data_params\"]\n",
    "         self.freq = data_params[\"freq\"]\n",
    "\n",
    "         # Set forecast horizon as model wrapper attribute horizon and verify\n",
    "         self.n_forecasts = self.params[\"n_forecasts\"]\n",
    "         assert self.n_forecasts >= 1, \"Model parameter n_forecasts must be >=1. \"\n",
    "         # Set season length as model wrapper attribute horizon and verify\n",
    "         self.season_length = model_params[\"K\"]\n",
    "         assert self.season_length is not None, (\n",
    "             \"Dataset does not provide a seasonality. Assign a seasonality to each of the datasets \"\n",
    "             \"OR input desired season_length as model parameter to be used for all datasets \"\n",
    "             \"without specified seasonality.\"\n",
    "         )\n",
    "\n",
    "    def fit(self, df: pd.DataFrame, freq: str):\n",
    "        _check_min_df_len(df=df, min_len= self.n_forecasts + self.season_length)\n",
    "        self.freq = freq\n",
    "        series = convert_df_to_TimeSeries(df, value_cols=df.columns.values[1:-1].tolist(), freq=self.freq)\n",
    "        self.model = self.model.fit(series)\n",
    "\n",
    "    def predict(self, df: pd.DataFrame, df_historic: pd.DataFrame = None):\n",
    "        _check_min_df_len(df=df, min_len=1)\n",
    "        if df_historic is not None:\n",
    "            df = self.maybe_extend_df(df_historic, df)\n",
    "        df, received_ID_col, received_single_time_series, _ = prep_or_copy_df(df)\n",
    "        # min. past observations !> 3 and 1 needs to be added because retrain=True\n",
    "        n_req_past_obs = 3 if self.season_length < 3 else self.season_length\n",
    "        n_req_past_obs += 1\n",
    "\n",
    "        fcst_df = _predict_darts_model(df=df, model=self, n_req_past_obs=n_req_past_obs, n_req_future_obs=self.n_forecasts, retrain=True)\n",
    "\n",
    "        if df_historic is not None:\n",
    "            fcst_df, df = self.maybe_drop_added_values_from_df(fcst_df, df)\n",
    "        return fcst_df\n",
    "\n",
    "    def maybe_extend_df(self, df_train, df_test):\n",
    "        \"\"\"\n",
    "        If model depends on historic values, extend beginning of df_test with last\n",
    "        df_train values.\n",
    "        \"\"\"\n",
    "        samples = self.season_length\n",
    "        df_test = add_first_inputs_to_df(samples=samples, df_train=df_train, df_test=df_test)\n",
    "\n",
    "        return df_test\n",
    "\n",
    "    def maybe_drop_added_values_from_df(self, predicted, df):\n",
    "        \"\"\"\n",
    "        If model depends on historic values, drop first values of predicted and df_test.\n",
    "        \"\"\"\n",
    "        samples = self.season_length\n",
    "        predicted, df = drop_first_inputs_from_df(samples=samples, predicted=predicted, df=df)\n",
    "        return predicted, df"
   ],
   "metadata": {
    "collapsed": false,
    "pycharm": {
     "name": "#%%\n"
    }
   }
  },
  {
   "cell_type": "markdown",
   "source": [
    "For running our new model in a benchmark, we load some sample datasets"
   ],
   "metadata": {
    "collapsed": false,
    "pycharm": {
     "name": "#%% md\n"
    }
   }
  },
  {
   "cell_type": "code",
   "execution_count": 21,
   "outputs": [],
   "source": [
    "data_location = \"https://raw.githubusercontent.com/ourownstory/neuralprophet-data/main/datasets/\"\n",
    "\n",
    "air_passengers_df = pd.read_csv(data_location + 'air_passengers.csv')\n",
    "peyton_manning_df = pd.read_csv(data_location + 'wp_log_peyton_manning.csv')\n",
    "yosemite_temps_df = pd.read_csv(data_location +  'yosemite_temps.csv')\n",
    "ercot_load_df = pd.read_csv(data_location +  'multivariate/load_ercot_regions.csv')"
   ],
   "metadata": {
    "collapsed": false,
    "pycharm": {
     "name": "#%%\n"
    }
   }
  },
  {
   "cell_type": "markdown",
   "source": [
    "Let's set up the `SimpleBenchmark` template with our CustomSeasonalNaiveModel and run the benchmark."
   ],
   "metadata": {
    "collapsed": false,
    "pycharm": {
     "name": "#%% md\n"
    }
   }
  },
  {
   "cell_type": "code",
   "execution_count": 24,
   "outputs": [],
   "source": [
    "from tot.dataset import Dataset\n",
    "from tot.benchmark import SimpleBenchmark\n",
    "dataset_list = [\n",
    "    Dataset(df = air_passengers_df, name = \"air_passengers\", freq = \"MS\"),\n",
    "    Dataset(df = peyton_manning_df, name = \"peyton_manning\", freq = \"D\"),\n",
    "    Dataset(df = yosemite_temps_df, name = \"yosemite_temps\", freq = \"5min\"),\n",
    "    # Dataset(df = ercot_load_df, name = \"ercot_load\", freq = \"H\"),\n",
    "]\n",
    "model_classes_and_params = [\n",
    "    (CustomSeasonalNaiveModel, {\"K\": 1, \"n_forecasts\":3}),\n",
    "]\n",
    "benchmark = SimpleBenchmark(\n",
    "    model_classes_and_params=model_classes_and_params, # iterate over this list of tuples\n",
    "    datasets=dataset_list, # iterate over this list\n",
    "    metrics=[\"MAE\", \"MSE\", \"MASE\", \"RMSE\"],\n",
    "    test_percentage=25,\n",
    ")"
   ],
   "metadata": {
    "collapsed": false,
    "pycharm": {
     "name": "#%%\n"
    }
   }
  },
  {
   "cell_type": "code",
   "execution_count": 25,
   "outputs": [
    {
     "data": {
      "text/plain": "  0%|          | 0/113 [00:00<?, ?it/s]",
      "application/vnd.jupyter.widget-view+json": {
       "version_major": 2,
       "version_minor": 0,
       "model_id": "e16c60116d004734af4b9136f2b78b9b"
      }
     },
     "metadata": {},
     "output_type": "display_data"
    },
    {
     "data": {
      "text/plain": "  0%|          | 0/20 [00:00<?, ?it/s]",
      "application/vnd.jupyter.widget-view+json": {
       "version_major": 2,
       "version_minor": 0,
       "model_id": "7dc6613c14b24661a892a00766893402"
      }
     },
     "metadata": {},
     "output_type": "display_data"
    },
    {
     "data": {
      "text/plain": "  0%|          | 0/2933 [00:00<?, ?it/s]",
      "application/vnd.jupyter.widget-view+json": {
       "version_major": 2,
       "version_minor": 0,
       "model_id": "bad5c8e7693a4dbb9411e7c6e52bd089"
      }
     },
     "metadata": {},
     "output_type": "display_data"
    },
    {
     "data": {
      "text/plain": "  0%|          | 0/20 [00:00<?, ?it/s]",
      "application/vnd.jupyter.widget-view+json": {
       "version_major": 2,
       "version_minor": 0,
       "model_id": "970f24563f3a4262bd526c0dcc1d8175"
      }
     },
     "metadata": {},
     "output_type": "display_data"
    },
    {
     "data": {
      "text/plain": "  0%|          | 0/18690 [00:00<?, ?it/s]",
      "application/vnd.jupyter.widget-view+json": {
       "version_major": 2,
       "version_minor": 0,
       "model_id": "aaf965cbbda8485c99b5993549609093"
      }
     },
     "metadata": {},
     "output_type": "display_data"
    },
    {
     "data": {
      "text/plain": "  0%|          | 0/20 [00:00<?, ?it/s]",
      "application/vnd.jupyter.widget-view+json": {
       "version_major": 2,
       "version_minor": 0,
       "model_id": "76fdfb2351b84f358f7e315a4f563d8e"
      }
     },
     "metadata": {},
     "output_type": "display_data"
    }
   ],
   "source": [
    "results_train, results_test = benchmark.run()"
   ],
   "metadata": {
    "collapsed": false,
    "pycharm": {
     "name": "#%%\n"
    }
   }
  },
  {
   "cell_type": "code",
   "execution_count": 27,
   "outputs": [
    {
     "data": {
      "text/plain": "             data                model  \\\n0  air_passengers  CustomSeasonalNaive   \n1  peyton_manning  CustomSeasonalNaive   \n2  yosemite_temps  CustomSeasonalNaive   \n\n                                              params  \\\n0  {'K': 1, 'n_forecasts': 3, '_data_params': {'f...   \n1  {'K': 1, 'n_forecasts': 3, '_data_params': {'f...   \n2  {'K': 1, 'n_forecasts': 3, '_data_params': {'f...   \n\n                                          experiment        MAE          MSE  \\\n0  air_passengers_CustomSeasonalNaive_K_1_n_forec...  73.016663  8050.250000   \n1  peyton_manning_CustomSeasonalNaive_K_1_n_forec...   0.573357     0.648822   \n2  yosemite_temps_CustomSeasonalNaive_K_1_n_forec...   0.631667     0.588167   \n\n       MASE       RMSE  \n0  3.301137  86.131256  \n1  1.832438   0.791932  \n2  1.627998   0.735115  ",
      "text/html": "<div>\n<style scoped>\n    .dataframe tbody tr th:only-of-type {\n        vertical-align: middle;\n    }\n\n    .dataframe tbody tr th {\n        vertical-align: top;\n    }\n\n    .dataframe thead th {\n        text-align: right;\n    }\n</style>\n<table border=\"1\" class=\"dataframe\">\n  <thead>\n    <tr style=\"text-align: right;\">\n      <th></th>\n      <th>data</th>\n      <th>model</th>\n      <th>params</th>\n      <th>experiment</th>\n      <th>MAE</th>\n      <th>MSE</th>\n      <th>MASE</th>\n      <th>RMSE</th>\n    </tr>\n  </thead>\n  <tbody>\n    <tr>\n      <th>0</th>\n      <td>air_passengers</td>\n      <td>CustomSeasonalNaive</td>\n      <td>{'K': 1, 'n_forecasts': 3, '_data_params': {'f...</td>\n      <td>air_passengers_CustomSeasonalNaive_K_1_n_forec...</td>\n      <td>73.016663</td>\n      <td>8050.250000</td>\n      <td>3.301137</td>\n      <td>86.131256</td>\n    </tr>\n    <tr>\n      <th>1</th>\n      <td>peyton_manning</td>\n      <td>CustomSeasonalNaive</td>\n      <td>{'K': 1, 'n_forecasts': 3, '_data_params': {'f...</td>\n      <td>peyton_manning_CustomSeasonalNaive_K_1_n_forec...</td>\n      <td>0.573357</td>\n      <td>0.648822</td>\n      <td>1.832438</td>\n      <td>0.791932</td>\n    </tr>\n    <tr>\n      <th>2</th>\n      <td>yosemite_temps</td>\n      <td>CustomSeasonalNaive</td>\n      <td>{'K': 1, 'n_forecasts': 3, '_data_params': {'f...</td>\n      <td>yosemite_temps_CustomSeasonalNaive_K_1_n_forec...</td>\n      <td>0.631667</td>\n      <td>0.588167</td>\n      <td>1.627998</td>\n      <td>0.735115</td>\n    </tr>\n  </tbody>\n</table>\n</div>"
     },
     "execution_count": 27,
     "metadata": {},
     "output_type": "execute_result"
    }
   ],
   "source": [
    "results_test"
   ],
   "metadata": {
    "collapsed": false,
    "pycharm": {
     "name": "#%%\n"
    }
   }
  }
 ],
 "metadata": {
  "kernelspec": {
   "display_name": "Python 3",
   "language": "python",
   "name": "python3"
  },
  "language_info": {
   "codemirror_mode": {
    "name": "ipython",
    "version": 2
   },
   "file_extension": ".py",
   "mimetype": "text/x-python",
   "name": "python",
   "nbconvert_exporter": "python",
   "pygments_lexer": "ipython2",
   "version": "2.7.6"
  }
 },
 "nbformat": 4,
 "nbformat_minor": 0
}