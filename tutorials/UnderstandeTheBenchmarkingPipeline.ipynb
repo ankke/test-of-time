{
 "cells": [
  {
   "cell_type": "markdown",
   "source": [
    "[![Open In Colab](https://colab.research.google.com/assets/colab-badge.svg)](https://colab.research.google.com/github/ourownstory/neural_prophet/blob/master/tutorials/UnderstandeTheBenchmarkingPipeline.ipynb)"
   ],
   "metadata": {
    "collapsed": false
   }
  },
  {
   "cell_type": "markdown",
   "source": [
    "# Understand the benchmarking pipline\n",
    "This tutorial takes you behind the scenes of the benchmark template and explains the processing steps\n",
    "in the benchmarking pipeline.\n"
   ],
   "metadata": {
    "collapsed": false
   }
  },
  {
   "cell_type": "code",
   "execution_count": 4,
   "outputs": [],
   "source": [
    "if 'google.colab' in str(get_ipython()):\n",
    "    !pip install git+https://github.com/ourownstory/test-of-time.git # may take a while\n",
    "    #!pip install test-of-time # much faster, but may not have the latest upgrades/bugfixes\n",
    "\n",
    "import pandas as pd\n",
    "from neuralprophet import NeuralProphet, set_log_level\n",
    "from tot.df_utils import _check_min_df_len, prep_or_copy_df, check_dataframe, handle_missing_data, split_df, return_df_in_original_format, maybe_drop_added_dates\n",
    "from tot.models_neuralprophet import NeuralProphetModel\n",
    "from tot.plot_forecast_plotly import plot\n",
    "\n",
    "from tot.exp_utils import evaluate_forecast\n",
    "from plotly_resampler import register_plotly_resampler"
   ],
   "metadata": {
    "collapsed": false,
    "pycharm": {
     "name": "#%%\n"
    }
   }
  },
  {
   "cell_type": "code",
   "execution_count": 5,
   "outputs": [],
   "source": [
    "set_log_level(\"ERROR\")\n",
    "register_plotly_resampler('figure')\n"
   ],
   "metadata": {
    "collapsed": false,
    "pycharm": {
     "name": "#%%\n"
    }
   }
  },
  {
   "cell_type": "markdown",
   "source": [
    "The benchmark templates test-of-time offers are a quick and simple way to compare multiple models and datasets.\n",
    "Defining a benchmark and running it will trigger a pipeline that returns the benchmark results. The benchmark\n",
    "is sub-divided into multiple experiments, that are consecutively executed in the pipeline. Every experiment run\n",
    "follows the same steps. Let's have a closer look at the individual steps."
   ],
   "metadata": {
    "collapsed": false,
    "pycharm": {
     "name": "#%% md\n"
    }
   }
  },
  {
   "cell_type": "markdown",
   "source": [
    "### Processing steps of an experiment\n",
    "\n",
    "1. Data-specific pre-processing:\n",
    "    - Set random seed to ensure reproducibility\n",
    "    - Prepare dataframe to have an ID column\n",
    "    - Performs a basic sanity check\n",
    "    - Handles missing data\n",
    "    - Splits the data into train and test datasets\n",
    "\n",
    "2. Model-specific pre-processing:\n",
    "    - Adjusts the data according to the model configuration to have each model be fitted and predicted correctly\n",
    "\n",
    "3. Fit model:\n",
    "    - Calls the fit method on the instantiated model object\n",
    "\n",
    "4. Predict model:\n",
    "    - Calls the predict method to create the forecast\n",
    "\n",
    "5. Model-specific post-processing:\n",
    "    - Adjusts the data according to the model configuration to be returned consitently\n",
    "\n",
    "6. Data-specific post-processing:\n",
    "    - Drops any added dates\n",
    "\n",
    "7. Evaluation:\n",
    "    - Evaluates the forecasts based on selected error metrics"
   ],
   "metadata": {
    "collapsed": false,
    "pycharm": {
     "name": "#%% md\n"
    }
   }
  },
  {
   "cell_type": "markdown",
   "source": [],
   "metadata": {
    "collapsed": false,
    "pycharm": {
     "name": "#%% md\n"
    }
   }
  },
  {
   "cell_type": "markdown",
   "source": [
    "### Load data\n",
    "Let's load the AirPassenger dataset as an example dataset to walk through the pipeline step by step."
   ],
   "metadata": {
    "collapsed": false
   }
  },
  {
   "cell_type": "code",
   "execution_count": 6,
   "outputs": [],
   "source": [
    "data_location = \"https://raw.githubusercontent.com/ourownstory/neuralprophet-data/main/datasets/\"\n",
    "df_air = pd.read_csv(data_location + 'air_passengers.csv')"
   ],
   "metadata": {
    "collapsed": false,
    "pycharm": {
     "name": "#%%\n"
    }
   }
  },
  {
   "cell_type": "markdown",
   "source": [
    "### 1. Data-specific pre-processing:"
   ],
   "metadata": {
    "collapsed": false,
    "pycharm": {
     "name": "#%% md\n"
    }
   }
  },
  {
   "cell_type": "code",
   "execution_count": 7,
   "outputs": [],
   "source": [
    "df_air, received_ID_col, received_single_time_series, _ = prep_or_copy_df(df_air)\n",
    "df_air = check_dataframe(df_air, check_y=True)\n",
    "# add infer frequency\n",
    "df_air = handle_missing_data(df_air, freq='MS')\n",
    "df_air_train, df_air_test = split_df(\n",
    "    df=df_air,\n",
    "    test_percentage=0.40,\n",
    ")"
   ],
   "metadata": {
    "collapsed": false,
    "pycharm": {
     "name": "#%%\n"
    }
   }
  },
  {
   "cell_type": "markdown",
   "source": [
    "### 2. Model-specific pre-processing:"
   ],
   "metadata": {
    "collapsed": false
   }
  },
  {
   "cell_type": "code",
   "execution_count": 8,
   "outputs": [],
   "source": [
    "model_class = NeuralProphetModel\n",
    "params =  {\n",
    "    \"n_forecasts\": 3,\n",
    "    \"n_lags\":7,\n",
    "    \"seasonality_mode\": \"multiplicative\",\n",
    "    \"learning_rate\": 0.03,\n",
    "    \"_data_params\":{},\n",
    "}\n",
    "model=model_class(params=params)\n",
    "\n",
    "_check_min_df_len(df=df_air_train, min_len=model.n_forecasts + model.n_lags)\n",
    "_check_min_df_len(df=df_air_test, min_len=model.n_forecasts)\n",
    "df_air_test = model.maybe_extend_df(df_air_train, df_air_test)"
   ],
   "metadata": {
    "collapsed": false,
    "pycharm": {
     "name": "#%%\n"
    }
   }
  },
  {
   "cell_type": "markdown",
   "source": [
    "### 3. Fit model:"
   ],
   "metadata": {
    "collapsed": false
   }
  },
  {
   "cell_type": "code",
   "execution_count": 9,
   "outputs": [],
   "source": [
    "model.model.fit(df=df_air_train, freq='MS', progress=\"none\", minimal=True)"
   ],
   "metadata": {
    "collapsed": false,
    "pycharm": {
     "name": "#%%\n"
    }
   }
  },
  {
   "cell_type": "markdown",
   "source": [
    "### 4. Predict model:"
   ],
   "metadata": {
    "collapsed": false
   }
  },
  {
   "cell_type": "code",
   "execution_count": 10,
   "outputs": [],
   "source": [
    "fcst_train = model.model.predict(df=df_air_train)\n",
    "fcst_test = model.model.predict(df=df_air_test)"
   ],
   "metadata": {
    "collapsed": false,
    "pycharm": {
     "name": "#%%\n"
    }
   }
  },
  {
   "cell_type": "markdown",
   "source": [
    "### 5. Model-specific post-processing:\n",
    "As you can see, the method is a class method and hence linked to the function"
   ],
   "metadata": {
    "collapsed": false
   }
  },
  {
   "cell_type": "code",
   "execution_count": 11,
   "outputs": [],
   "source": [
    "fcst_test, df_air_test = model.maybe_drop_added_values_from_df(fcst_test, df_air_test)"
   ],
   "metadata": {
    "collapsed": false,
    "pycharm": {
     "name": "#%%\n"
    }
   }
  },
  {
   "cell_type": "markdown",
   "source": [
    "### 6. Data-specific post-processing:"
   ],
   "metadata": {
    "collapsed": false
   }
  },
  {
   "cell_type": "code",
   "execution_count": 12,
   "outputs": [],
   "source": [
    "fcst_train_df = return_df_in_original_format(fcst_train, received_ID_col, received_single_time_series)\n",
    "fcst_test_df = return_df_in_original_format(fcst_test, received_ID_col, received_single_time_series)\n",
    "fcst_train_df, df_air_train = maybe_drop_added_dates(fcst_train_df, df_air_train)\n",
    "fcst_test_df, df_air_test = maybe_drop_added_dates(fcst_test_df, df_air_test)"
   ],
   "metadata": {
    "collapsed": false,
    "pycharm": {
     "name": "#%%\n"
    }
   }
  },
  {
   "cell_type": "markdown",
   "source": [
    "### 7. Evaluation:"
   ],
   "metadata": {
    "collapsed": false
   }
  },
  {
   "cell_type": "code",
   "execution_count": 13,
   "outputs": [
    {
     "name": "stdout",
     "output_type": "stream",
     "text": [
      "{'MAPE': 7.274437, 'MAE': 30.610687, 'RMSE': 38.161297}\n"
     ]
    }
   ],
   "source": [
    "result_train, result_test = evaluate_forecast(fcst_train_df, fcst_test_df, metrics=['MAPE','MAE','RMSE'], metadata=None)\n",
    "print(result_test)\n"
   ],
   "metadata": {
    "collapsed": false,
    "pycharm": {
     "name": "#%%\n"
    }
   }
  }
 ],
 "metadata": {
  "kernelspec": {
   "display_name": "Python 3",
   "language": "python",
   "name": "python3"
  },
  "language_info": {
   "codemirror_mode": {
    "name": "ipython",
    "version": 2
   },
   "file_extension": ".py",
   "mimetype": "text/x-python",
   "name": "python",
   "nbconvert_exporter": "python",
   "pygments_lexer": "ipython2",
   "version": "2.7.6"
  }
 },
 "nbformat": 4,
 "nbformat_minor": 0
}