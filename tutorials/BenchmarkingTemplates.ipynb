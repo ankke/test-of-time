{
 "cells": [
  {
   "cell_type": "markdown",
   "id": "2ca8c35e-d7c4-4eed-a69b-324a3ffdbea8",
   "metadata": {},
   "source": [
    "[![Open In Colab](https://colab.research.google.com/assets/colab-badge.svg)](https://github.com/ourownstory/test-of-time/blob/main/tutorials/BenchmarkingTemplates.ipynb)"
   ]
  },
  {
   "cell_type": "markdown",
   "id": "2f2af163-c378-4e01-8d5b-3def6194c29e",
   "metadata": {
    "tags": []
   },
   "source": [
    "# Running benchmarking experiments\n",
    "Note: The Benchmarking Framework does currently not properly support lagged covariates with multiple step ahead forecasts."
   ]
  },
  {
   "cell_type": "code",
   "execution_count": 2,
   "id": "80400b6d-ca57-47ba-9dc5-0da3885ab6b1",
   "metadata": {},
   "outputs": [],
   "source": [
    "if 'google.colab' in str(get_ipython()):\n",
    "    !pip install git+https://github.com/ourownstory/test-of-time.git # may take a while\n",
    "    #!pip install neuralprophet # much faster, but may not have the latest upgrades/bugfixes\n",
    "\n",
    "# we also need prophet for this notebook\n",
    "# !pip install prophet\n",
    "\n",
    "import pandas as pd\n",
    "from neuralprophet import NeuralProphet, set_log_level\n",
    "from tot import Dataset, NeuralProphetModel, ProphetModel\n",
    "from tot.benchmark import SimpleBenchmark, CrossValidationBenchmark\n",
    "set_log_level(\"ERROR\")"
   ]
  },
  {
   "cell_type": "markdown",
   "id": "e5e79793-8ebb-4d06-b021-82b49d107653",
   "metadata": {},
   "source": [
    "## Load data"
   ]
  },
  {
   "cell_type": "code",
   "execution_count": 3,
   "id": "930697ee-179c-4821-bbb7-c2f5e4588093",
   "metadata": {},
   "outputs": [],
   "source": [
    "data_location = \"https://raw.githubusercontent.com/ourownstory/neuralprophet-data/main/datasets/\"\n",
    "\n",
    "air_passengers_df = pd.read_csv(data_location + 'air_passengers.csv')\n",
    "peyton_manning_df = pd.read_csv(data_location + 'wp_log_peyton_manning.csv')"
   ]
  },
  {
   "cell_type": "markdown",
   "id": "40f0b0c0-eeaa-4a1f-9251-84d41da1deae",
   "metadata": {
    "tags": []
   },
   "source": [
    "## 0. Configure Datasets and Model Parameters\n",
    "First, we define the datasets that we would like to benchmark on.\n",
    "Next, we define the models that we want to evaluate and set their hyperparameters."
   ]
  },
  {
   "cell_type": "code",
   "execution_count": 4,
   "id": "ac375354-7755-48a7-b628-d322c0232f3c",
   "metadata": {},
   "outputs": [],
   "source": [
    "dataset_list = [\n",
    "    Dataset(df = air_passengers_df, name = \"air_passengers\", freq = \"MS\"),\n",
    "    Dataset(df = peyton_manning_df, name = \"peyton_manning\", freq = \"D\"),\n",
    "]\n",
    "model_classes_and_params = [\n",
    "    (NeuralProphetModel, {\"seasonality_mode\": \"multiplicative\", \"learning_rate\": 0.1}),\n",
    "    (ProphetModel, {\"seasonality_mode\": \"multiplicative\"})\n",
    "]"
   ]
  },
  {
   "cell_type": "markdown",
   "id": "60e64a14-ab54-43b8-8115-1c6c02996e7c",
   "metadata": {},
   "source": [
    "Note: As all the classes used in the Benchmark framework are dataclasses, \n",
    "they have a print function, allowing us to peek into them if we like:"
   ]
  },
  {
   "cell_type": "code",
   "execution_count": 5,
   "id": "fc5ac40e-8ce3-427f-be00-f2590dacc3e6",
   "metadata": {},
   "outputs": [
    {
     "data": {
      "text/plain": "[(tot.models_neuralprophet.NeuralProphetModel,\n  {'seasonality_mode': 'multiplicative', 'learning_rate': 0.1}),\n (tot.models_simple.ProphetModel, {'seasonality_mode': 'multiplicative'})]"
     },
     "execution_count": 5,
     "metadata": {},
     "output_type": "execute_result"
    }
   ],
   "source": [
    "model_classes_and_params"
   ]
  },
  {
   "cell_type": "markdown",
   "id": "4b924887-1728-4506-9275-92ec4be61033",
   "metadata": {},
   "source": [
    "## 1. SimpleBenchmark\n",
    "Setting up a series of Train Test Experiments is quick:"
   ]
  },
  {
   "cell_type": "code",
   "execution_count": 6,
   "id": "27e909a2-cbc5-4703-a1e6-8963921b6364",
   "metadata": {},
   "outputs": [
    {
     "name": "stderr",
     "output_type": "stream",
     "text": [
      "19:37:44 - cmdstanpy - INFO - Chain [1] start processing\n",
      "19:37:44 - cmdstanpy - INFO - Chain [1] done processing\n",
      "19:38:23 - cmdstanpy - INFO - Chain [1] start processing\n",
      "19:38:23 - cmdstanpy - INFO - Chain [1] done processing\n"
     ]
    }
   ],
   "source": [
    "benchmark = SimpleBenchmark(\n",
    "    model_classes_and_params=model_classes_and_params, # iterate over this list of tuples\n",
    "    datasets=dataset_list, # iterate over this list\n",
    "    metrics=[\"MAE\", \"MSE\", \"MASE\", \"RMSE\"],\n",
    "    test_percentage=0.25,\n",
    ")\n",
    "results_train, results_test = benchmark.run()"
   ]
  },
  {
   "cell_type": "code",
   "execution_count": 7,
   "id": "270a689e-47f5-45cb-9b2f-18196d149348",
   "metadata": {},
   "outputs": [
    {
     "data": {
      "text/plain": "             data          model  \\\n0  air_passengers  NeuralProphet   \n1  air_passengers        Prophet   \n2  peyton_manning  NeuralProphet   \n3  peyton_manning        Prophet   \n\n                                              params  \\\n0  {'seasonality_mode': 'multiplicative', 'learni...   \n1  {'seasonality_mode': 'multiplicative', '_data_...   \n2  {'seasonality_mode': 'multiplicative', 'learni...   \n3  {'seasonality_mode': 'multiplicative', '_data_...   \n\n                                          experiment        MAE          MSE  \\\n0  air_passengers_NeuralProphet_seasonality_mode_...  25.270485   865.871460   \n1  air_passengers_Prophet_seasonality_mode_multip...  29.798283  1141.566895   \n2  peyton_manning_NeuralProphet_seasonality_mode_...   0.388522     0.357514   \n3  peyton_manning_Prophet_seasonality_mode_multip...   0.435576     0.327547   \n\n       MASE       RMSE  \n0  1.243764  29.425694  \n1  1.466613  33.787083  \n2  1.277334   0.597925  \n3  1.432033   0.572317  ",
      "text/html": "<div>\n<style scoped>\n    .dataframe tbody tr th:only-of-type {\n        vertical-align: middle;\n    }\n\n    .dataframe tbody tr th {\n        vertical-align: top;\n    }\n\n    .dataframe thead th {\n        text-align: right;\n    }\n</style>\n<table border=\"1\" class=\"dataframe\">\n  <thead>\n    <tr style=\"text-align: right;\">\n      <th></th>\n      <th>data</th>\n      <th>model</th>\n      <th>params</th>\n      <th>experiment</th>\n      <th>MAE</th>\n      <th>MSE</th>\n      <th>MASE</th>\n      <th>RMSE</th>\n    </tr>\n  </thead>\n  <tbody>\n    <tr>\n      <th>0</th>\n      <td>air_passengers</td>\n      <td>NeuralProphet</td>\n      <td>{'seasonality_mode': 'multiplicative', 'learni...</td>\n      <td>air_passengers_NeuralProphet_seasonality_mode_...</td>\n      <td>25.270485</td>\n      <td>865.871460</td>\n      <td>1.243764</td>\n      <td>29.425694</td>\n    </tr>\n    <tr>\n      <th>1</th>\n      <td>air_passengers</td>\n      <td>Prophet</td>\n      <td>{'seasonality_mode': 'multiplicative', '_data_...</td>\n      <td>air_passengers_Prophet_seasonality_mode_multip...</td>\n      <td>29.798283</td>\n      <td>1141.566895</td>\n      <td>1.466613</td>\n      <td>33.787083</td>\n    </tr>\n    <tr>\n      <th>2</th>\n      <td>peyton_manning</td>\n      <td>NeuralProphet</td>\n      <td>{'seasonality_mode': 'multiplicative', 'learni...</td>\n      <td>peyton_manning_NeuralProphet_seasonality_mode_...</td>\n      <td>0.388522</td>\n      <td>0.357514</td>\n      <td>1.277334</td>\n      <td>0.597925</td>\n    </tr>\n    <tr>\n      <th>3</th>\n      <td>peyton_manning</td>\n      <td>Prophet</td>\n      <td>{'seasonality_mode': 'multiplicative', '_data_...</td>\n      <td>peyton_manning_Prophet_seasonality_mode_multip...</td>\n      <td>0.435576</td>\n      <td>0.327547</td>\n      <td>1.432033</td>\n      <td>0.572317</td>\n    </tr>\n  </tbody>\n</table>\n</div>"
     },
     "execution_count": 7,
     "metadata": {},
     "output_type": "execute_result"
    }
   ],
   "source": [
    "results_test"
   ]
  },
  {
   "cell_type": "markdown",
   "id": "7977f0ce-d0c6-4d0c-9edc-a62862d1ea1e",
   "metadata": {},
   "source": [
    "## 2. CrossValidationBenchmark\n",
    "Setting up a series of crossvalidated experiments is just as simple:"
   ]
  },
  {
   "cell_type": "code",
   "execution_count": 8,
   "id": "61a78380-0e77-4ecf-a356-4c89cdf52625",
   "metadata": {},
   "outputs": [
    {
     "name": "stderr",
     "output_type": "stream",
     "text": [
      "19:39:06 - cmdstanpy - INFO - Chain [1] start processing\n",
      "19:39:06 - cmdstanpy - INFO - Chain [1] done processing\n",
      "19:39:07 - cmdstanpy - INFO - Chain [1] start processing\n",
      "19:39:07 - cmdstanpy - INFO - Chain [1] done processing\n",
      "19:39:08 - cmdstanpy - INFO - Chain [1] start processing\n",
      "19:39:08 - cmdstanpy - INFO - Chain [1] done processing\n",
      "19:40:53 - cmdstanpy - INFO - Chain [1] start processing\n",
      "19:40:54 - cmdstanpy - INFO - Chain [1] done processing\n",
      "19:40:56 - cmdstanpy - INFO - Chain [1] start processing\n",
      "19:40:56 - cmdstanpy - INFO - Chain [1] done processing\n",
      "19:40:58 - cmdstanpy - INFO - Chain [1] start processing\n",
      "19:40:59 - cmdstanpy - INFO - Chain [1] done processing\n"
     ]
    }
   ],
   "source": [
    "benchmark_cv = CrossValidationBenchmark(\n",
    "    model_classes_and_params=model_classes_and_params, # iterate over this list of tuples\n",
    "    datasets=dataset_list, # iterate over this list\n",
    "    metrics=[\"MASE\", \"RMSE\"],\n",
    "    test_percentage=0.10,\n",
    "    num_folds=3,\n",
    "    fold_overlap_pct=0,\n",
    ")\n",
    "results_summary, results_train, results_test = benchmark_cv.run()"
   ]
  },
  {
   "cell_type": "markdown",
   "id": "b2ca0381-7469-427f-b924-1269ff9f4c50",
   "metadata": {},
   "source": [
    "We now also get a summary DataFrame showing the metrics' mean and standard deviation over all folds."
   ]
  },
  {
   "cell_type": "code",
   "execution_count": 9,
   "id": "653ed48e-221d-48b2-81af-f1a172fe2beb",
   "metadata": {},
   "outputs": [
    {
     "data": {
      "text/plain": "             data          model  \\\n0  air_passengers  NeuralProphet   \n1  air_passengers        Prophet   \n2  peyton_manning  NeuralProphet   \n3  peyton_manning        Prophet   \n0  air_passengers  NeuralProphet   \n1  air_passengers        Prophet   \n2  peyton_manning  NeuralProphet   \n3  peyton_manning        Prophet   \n\n                                              params  \\\n0  {'seasonality_mode': 'multiplicative', 'learni...   \n1  {'seasonality_mode': 'multiplicative', '_data_...   \n2  {'seasonality_mode': 'multiplicative', 'learni...   \n3  {'seasonality_mode': 'multiplicative', '_data_...   \n0  {'seasonality_mode': 'multiplicative', 'learni...   \n1  {'seasonality_mode': 'multiplicative', '_data_...   \n2  {'seasonality_mode': 'multiplicative', 'learni...   \n3  {'seasonality_mode': 'multiplicative', '_data_...   \n\n                                          experiment      MASE       RMSE  \\\n0  air_passengers_NeuralProphet_seasonality_mode_...  0.281459   7.611626   \n1  air_passengers_Prophet_seasonality_mode_multip...  0.311314   8.628308   \n2  peyton_manning_NeuralProphet_seasonality_mode_...  1.131617   0.492711   \n3  peyton_manning_Prophet_seasonality_mode_multip...  1.117091   0.482720   \n0  air_passengers_NeuralProphet_seasonality_mode_...  0.919185  23.011145   \n1  air_passengers_Prophet_seasonality_mode_multip...  0.898355  22.903313   \n2  peyton_manning_NeuralProphet_seasonality_mode_...  1.724643   0.688672   \n3  peyton_manning_Prophet_seasonality_mode_multip...  1.656257   0.675540   \n\n   MASE_std  RMSE_std  split  \n0  0.015282  0.766766  train  \n1  0.020758  1.253572  train  \n2  0.011406  0.013287  train  \n3  0.017666  0.009143  train  \n0  0.366786  8.233665   test  \n1  0.157018  4.120811   test  \n2  0.613771  0.234687   test  \n3  0.582417  0.187746   test  ",
      "text/html": "<div>\n<style scoped>\n    .dataframe tbody tr th:only-of-type {\n        vertical-align: middle;\n    }\n\n    .dataframe tbody tr th {\n        vertical-align: top;\n    }\n\n    .dataframe thead th {\n        text-align: right;\n    }\n</style>\n<table border=\"1\" class=\"dataframe\">\n  <thead>\n    <tr style=\"text-align: right;\">\n      <th></th>\n      <th>data</th>\n      <th>model</th>\n      <th>params</th>\n      <th>experiment</th>\n      <th>MASE</th>\n      <th>RMSE</th>\n      <th>MASE_std</th>\n      <th>RMSE_std</th>\n      <th>split</th>\n    </tr>\n  </thead>\n  <tbody>\n    <tr>\n      <th>0</th>\n      <td>air_passengers</td>\n      <td>NeuralProphet</td>\n      <td>{'seasonality_mode': 'multiplicative', 'learni...</td>\n      <td>air_passengers_NeuralProphet_seasonality_mode_...</td>\n      <td>0.281459</td>\n      <td>7.611626</td>\n      <td>0.015282</td>\n      <td>0.766766</td>\n      <td>train</td>\n    </tr>\n    <tr>\n      <th>1</th>\n      <td>air_passengers</td>\n      <td>Prophet</td>\n      <td>{'seasonality_mode': 'multiplicative', '_data_...</td>\n      <td>air_passengers_Prophet_seasonality_mode_multip...</td>\n      <td>0.311314</td>\n      <td>8.628308</td>\n      <td>0.020758</td>\n      <td>1.253572</td>\n      <td>train</td>\n    </tr>\n    <tr>\n      <th>2</th>\n      <td>peyton_manning</td>\n      <td>NeuralProphet</td>\n      <td>{'seasonality_mode': 'multiplicative', 'learni...</td>\n      <td>peyton_manning_NeuralProphet_seasonality_mode_...</td>\n      <td>1.131617</td>\n      <td>0.492711</td>\n      <td>0.011406</td>\n      <td>0.013287</td>\n      <td>train</td>\n    </tr>\n    <tr>\n      <th>3</th>\n      <td>peyton_manning</td>\n      <td>Prophet</td>\n      <td>{'seasonality_mode': 'multiplicative', '_data_...</td>\n      <td>peyton_manning_Prophet_seasonality_mode_multip...</td>\n      <td>1.117091</td>\n      <td>0.482720</td>\n      <td>0.017666</td>\n      <td>0.009143</td>\n      <td>train</td>\n    </tr>\n    <tr>\n      <th>0</th>\n      <td>air_passengers</td>\n      <td>NeuralProphet</td>\n      <td>{'seasonality_mode': 'multiplicative', 'learni...</td>\n      <td>air_passengers_NeuralProphet_seasonality_mode_...</td>\n      <td>0.919185</td>\n      <td>23.011145</td>\n      <td>0.366786</td>\n      <td>8.233665</td>\n      <td>test</td>\n    </tr>\n    <tr>\n      <th>1</th>\n      <td>air_passengers</td>\n      <td>Prophet</td>\n      <td>{'seasonality_mode': 'multiplicative', '_data_...</td>\n      <td>air_passengers_Prophet_seasonality_mode_multip...</td>\n      <td>0.898355</td>\n      <td>22.903313</td>\n      <td>0.157018</td>\n      <td>4.120811</td>\n      <td>test</td>\n    </tr>\n    <tr>\n      <th>2</th>\n      <td>peyton_manning</td>\n      <td>NeuralProphet</td>\n      <td>{'seasonality_mode': 'multiplicative', 'learni...</td>\n      <td>peyton_manning_NeuralProphet_seasonality_mode_...</td>\n      <td>1.724643</td>\n      <td>0.688672</td>\n      <td>0.613771</td>\n      <td>0.234687</td>\n      <td>test</td>\n    </tr>\n    <tr>\n      <th>3</th>\n      <td>peyton_manning</td>\n      <td>Prophet</td>\n      <td>{'seasonality_mode': 'multiplicative', '_data_...</td>\n      <td>peyton_manning_Prophet_seasonality_mode_multip...</td>\n      <td>1.656257</td>\n      <td>0.675540</td>\n      <td>0.582417</td>\n      <td>0.187746</td>\n      <td>test</td>\n    </tr>\n  </tbody>\n</table>\n</div>"
     },
     "execution_count": 9,
     "metadata": {},
     "output_type": "execute_result"
    }
   ],
   "source": [
    "results_summary"
   ]
  },
  {
   "cell_type": "markdown",
   "id": "0b32fd49-55c6-4cd4-9082-3ee073cc741e",
   "metadata": {},
   "source": [
    "The metrics for each fold are also recorded individually:"
   ]
  },
  {
   "cell_type": "code",
   "execution_count": 11,
   "id": "5bdf240d-a6a8-4433-b12f-3fa3921d8b7a",
   "metadata": {},
   "outputs": [
    {
     "data": {
      "text/plain": "             data          model  \\\n0  air_passengers  NeuralProphet   \n1  air_passengers        Prophet   \n2  peyton_manning  NeuralProphet   \n3  peyton_manning        Prophet   \n\n                                              params  \\\n0  {'seasonality_mode': 'multiplicative', 'learni...   \n1  {'seasonality_mode': 'multiplicative', '_data_...   \n2  {'seasonality_mode': 'multiplicative', 'learni...   \n3  {'seasonality_mode': 'multiplicative', '_data_...   \n\n                                          experiment  \\\n0  air_passengers_NeuralProphet_seasonality_mode_...   \n1  air_passengers_Prophet_seasonality_mode_multip...   \n2  peyton_manning_NeuralProphet_seasonality_mode_...   \n3  peyton_manning_Prophet_seasonality_mode_multip...   \n\n                                 MASE                                RMSE  \n0   [1.0804276, 0.4115997, 1.2655276]    [26.26348, 11.702176, 31.067776]  \n1  [1.0324912, 0.67802984, 0.9845448]     [24.708176, 17.20208, 26.79968]  \n2   [2.5805354, 1.4218292, 1.1715646]  [1.0201913, 0.53664005, 0.5091859]  \n3   [2.3569856, 1.6807915, 0.9309951]  [0.9267114, 0.6245031, 0.47540453]  ",
      "text/html": "<div>\n<style scoped>\n    .dataframe tbody tr th:only-of-type {\n        vertical-align: middle;\n    }\n\n    .dataframe tbody tr th {\n        vertical-align: top;\n    }\n\n    .dataframe thead th {\n        text-align: right;\n    }\n</style>\n<table border=\"1\" class=\"dataframe\">\n  <thead>\n    <tr style=\"text-align: right;\">\n      <th></th>\n      <th>data</th>\n      <th>model</th>\n      <th>params</th>\n      <th>experiment</th>\n      <th>MASE</th>\n      <th>RMSE</th>\n    </tr>\n  </thead>\n  <tbody>\n    <tr>\n      <th>0</th>\n      <td>air_passengers</td>\n      <td>NeuralProphet</td>\n      <td>{'seasonality_mode': 'multiplicative', 'learni...</td>\n      <td>air_passengers_NeuralProphet_seasonality_mode_...</td>\n      <td>[1.0804276, 0.4115997, 1.2655276]</td>\n      <td>[26.26348, 11.702176, 31.067776]</td>\n    </tr>\n    <tr>\n      <th>1</th>\n      <td>air_passengers</td>\n      <td>Prophet</td>\n      <td>{'seasonality_mode': 'multiplicative', '_data_...</td>\n      <td>air_passengers_Prophet_seasonality_mode_multip...</td>\n      <td>[1.0324912, 0.67802984, 0.9845448]</td>\n      <td>[24.708176, 17.20208, 26.79968]</td>\n    </tr>\n    <tr>\n      <th>2</th>\n      <td>peyton_manning</td>\n      <td>NeuralProphet</td>\n      <td>{'seasonality_mode': 'multiplicative', 'learni...</td>\n      <td>peyton_manning_NeuralProphet_seasonality_mode_...</td>\n      <td>[2.5805354, 1.4218292, 1.1715646]</td>\n      <td>[1.0201913, 0.53664005, 0.5091859]</td>\n    </tr>\n    <tr>\n      <th>3</th>\n      <td>peyton_manning</td>\n      <td>Prophet</td>\n      <td>{'seasonality_mode': 'multiplicative', '_data_...</td>\n      <td>peyton_manning_Prophet_seasonality_mode_multip...</td>\n      <td>[2.3569856, 1.6807915, 0.9309951]</td>\n      <td>[0.9267114, 0.6245031, 0.47540453]</td>\n    </tr>\n  </tbody>\n</table>\n</div>"
     },
     "execution_count": 11,
     "metadata": {},
     "output_type": "execute_result"
    }
   ],
   "source": [
    "results_test"
   ]
  },
  {
   "cell_type": "markdown",
   "id": "957b9a8e-f9ed-4b56-9ec2-eede0d3b6d04",
   "metadata": {},
   "source": [
    "## 3. Manual Benchmark\n",
    "If you need more control over the individual Experiments, you can set them up manually:"
   ]
  },
  {
   "cell_type": "code",
   "execution_count": 13,
   "id": "184d06bf-d479-4f7e-a476-236ab51ccf0e",
   "metadata": {},
   "outputs": [],
   "source": [
    "from tot.experiment import SimpleExperiment, CrossValidationExperiment\n",
    "from tot.benchmark import ManualBenchmark, ManualCVBenchmark"
   ]
  },
  {
   "cell_type": "markdown",
   "id": "954116e3-4078-41d3-b7cd-c8888b8c03bb",
   "metadata": {},
   "source": [
    "### 3.1 ManualBenchmark: Manual SimpleExperiment Benchmark"
   ]
  },
  {
   "cell_type": "code",
   "execution_count": 14,
   "id": "7ee7c717-dc96-460a-ad01-941385d038f9",
   "metadata": {},
   "outputs": [
    {
     "name": "stderr",
     "output_type": "stream",
     "text": [
      "19:47:10 - cmdstanpy - INFO - Chain [1] start processing\n",
      "19:47:10 - cmdstanpy - INFO - Chain [1] done processing\n",
      "19:47:51 - cmdstanpy - INFO - Chain [1] start processing\n",
      "19:47:52 - cmdstanpy - INFO - Chain [1] done processing\n"
     ]
    }
   ],
   "source": [
    "metrics = [\"MAE\", \"MSE\", \"RMSE\", \"MASE\", \"RMSSE\", \"MAPE\", \"SMAPE\"]\n",
    "experiments = [\n",
    "    SimpleExperiment(\n",
    "        model_class=NeuralProphetModel,\n",
    "        params={\"seasonality_mode\": \"multiplicative\", \"learning_rate\": 0.1},\n",
    "        data=Dataset(df=air_passengers_df, name=\"air_passengers\", freq=\"MS\"),\n",
    "        metrics=metrics,\n",
    "        test_percentage=0.25,\n",
    "    ),\n",
    "    SimpleExperiment(\n",
    "        model_class=ProphetModel,\n",
    "        params={\"seasonality_mode\": \"multiplicative\", },\n",
    "        data=Dataset(df=air_passengers_df, name=\"air_passengers\", freq=\"MS\"),\n",
    "        metrics=metrics,\n",
    "        test_percentage=0.25,\n",
    "    ),\n",
    "    SimpleExperiment(\n",
    "        model_class=NeuralProphetModel,\n",
    "        params={\"learning_rate\": 0.1},\n",
    "        data=Dataset(df=peyton_manning_df, name=\"peyton_manning\", freq=\"D\"),\n",
    "        metrics=metrics,\n",
    "        test_percentage=0.15,\n",
    "    ),\n",
    "    SimpleExperiment(\n",
    "        model_class=ProphetModel,\n",
    "        params={},\n",
    "        data=Dataset(df=peyton_manning_df, name=\"peyton_manning\", freq=\"D\"),\n",
    "        metrics=metrics,\n",
    "        test_percentage=0.15,\n",
    "    ),\n",
    "]\n",
    "benchmark = ManualBenchmark(\n",
    "    experiments=experiments,\n",
    "    metrics=metrics,\n",
    ")\n",
    "results_train, results_test = benchmark.run()"
   ]
  },
  {
   "cell_type": "code",
   "execution_count": 15,
   "id": "1a8c8ef4-d26a-4aa9-bfcc-b8134eab4daf",
   "metadata": {},
   "outputs": [
    {
     "data": {
      "text/plain": "             data          model  \\\n0  air_passengers  NeuralProphet   \n1  air_passengers        Prophet   \n2  peyton_manning  NeuralProphet   \n3  peyton_manning        Prophet   \n\n                                              params  \\\n0  {'seasonality_mode': 'multiplicative', 'learni...   \n1  {'seasonality_mode': 'multiplicative', '_data_...   \n2  {'learning_rate': 0.1, '_data_params': {'freq'...   \n3                    {'_data_params': {'freq': 'D'}}   \n\n                                          experiment        MAE          MSE  \\\n0  air_passengers_NeuralProphet_seasonality_mode_...  25.270485   865.871460   \n1  air_passengers_Prophet_seasonality_mode_multip...  29.798283  1141.566895   \n2  peyton_manning_NeuralProphet_learning_rate_0.1...   0.684821     0.592419   \n3      peyton_manning_Prophet__data_params_{freq_ D}   0.602923     0.472586   \n\n        RMSE      MASE     RMSSE      MAPE     SMAPE  \n0  29.425694  1.243764  1.138945  6.051496  2.906882  \n1  33.787083  1.466613  1.307756  7.474031  3.559340  \n2   0.769687  2.226078  1.624652  8.813568  4.197721  \n3   0.687449  1.959859  1.451063  7.778729  3.730783  ",
      "text/html": "<div>\n<style scoped>\n    .dataframe tbody tr th:only-of-type {\n        vertical-align: middle;\n    }\n\n    .dataframe tbody tr th {\n        vertical-align: top;\n    }\n\n    .dataframe thead th {\n        text-align: right;\n    }\n</style>\n<table border=\"1\" class=\"dataframe\">\n  <thead>\n    <tr style=\"text-align: right;\">\n      <th></th>\n      <th>data</th>\n      <th>model</th>\n      <th>params</th>\n      <th>experiment</th>\n      <th>MAE</th>\n      <th>MSE</th>\n      <th>RMSE</th>\n      <th>MASE</th>\n      <th>RMSSE</th>\n      <th>MAPE</th>\n      <th>SMAPE</th>\n    </tr>\n  </thead>\n  <tbody>\n    <tr>\n      <th>0</th>\n      <td>air_passengers</td>\n      <td>NeuralProphet</td>\n      <td>{'seasonality_mode': 'multiplicative', 'learni...</td>\n      <td>air_passengers_NeuralProphet_seasonality_mode_...</td>\n      <td>25.270485</td>\n      <td>865.871460</td>\n      <td>29.425694</td>\n      <td>1.243764</td>\n      <td>1.138945</td>\n      <td>6.051496</td>\n      <td>2.906882</td>\n    </tr>\n    <tr>\n      <th>1</th>\n      <td>air_passengers</td>\n      <td>Prophet</td>\n      <td>{'seasonality_mode': 'multiplicative', '_data_...</td>\n      <td>air_passengers_Prophet_seasonality_mode_multip...</td>\n      <td>29.798283</td>\n      <td>1141.566895</td>\n      <td>33.787083</td>\n      <td>1.466613</td>\n      <td>1.307756</td>\n      <td>7.474031</td>\n      <td>3.559340</td>\n    </tr>\n    <tr>\n      <th>2</th>\n      <td>peyton_manning</td>\n      <td>NeuralProphet</td>\n      <td>{'learning_rate': 0.1, '_data_params': {'freq'...</td>\n      <td>peyton_manning_NeuralProphet_learning_rate_0.1...</td>\n      <td>0.684821</td>\n      <td>0.592419</td>\n      <td>0.769687</td>\n      <td>2.226078</td>\n      <td>1.624652</td>\n      <td>8.813568</td>\n      <td>4.197721</td>\n    </tr>\n    <tr>\n      <th>3</th>\n      <td>peyton_manning</td>\n      <td>Prophet</td>\n      <td>{'_data_params': {'freq': 'D'}}</td>\n      <td>peyton_manning_Prophet__data_params_{freq_ D}</td>\n      <td>0.602923</td>\n      <td>0.472586</td>\n      <td>0.687449</td>\n      <td>1.959859</td>\n      <td>1.451063</td>\n      <td>7.778729</td>\n      <td>3.730783</td>\n    </tr>\n  </tbody>\n</table>\n</div>"
     },
     "execution_count": 15,
     "metadata": {},
     "output_type": "execute_result"
    }
   ],
   "source": [
    "results_test"
   ]
  },
  {
   "cell_type": "markdown",
   "id": "ee0214e5-ee8a-452d-baa3-c390027f9cf8",
   "metadata": {},
   "source": [
    "### 3.2 ManualCVBenchmark: Manual CrossValidationExperiment Benchmark"
   ]
  },
  {
   "cell_type": "code",
   "execution_count": 16,
   "id": "b73463e4-75f0-4e81-a138-f834407f93b1",
   "metadata": {},
   "outputs": [
    {
     "name": "stderr",
     "output_type": "stream",
     "text": [
      "19:48:29 - cmdstanpy - INFO - Chain [1] start processing\n",
      "19:48:29 - cmdstanpy - INFO - Chain [1] done processing\n",
      "19:48:30 - cmdstanpy - INFO - Chain [1] start processing\n",
      "19:48:30 - cmdstanpy - INFO - Chain [1] done processing\n",
      "19:48:31 - cmdstanpy - INFO - Chain [1] start processing\n",
      "19:48:32 - cmdstanpy - INFO - Chain [1] done processing\n"
     ]
    }
   ],
   "source": [
    "air_passengers_df = pd.read_csv(data_location + 'air_passengers.csv')\n",
    "experiments = [\n",
    "    CrossValidationExperiment(\n",
    "        model_class=NeuralProphetModel,\n",
    "        params={\"seasonality_mode\": \"multiplicative\", \"learning_rate\": 0.1},\n",
    "        data=Dataset(df=air_passengers_df, name=\"air_passengers\", freq=\"MS\"),\n",
    "        metrics=metrics,\n",
    "        test_percentage=0.10,\n",
    "        num_folds=3,\n",
    "        fold_overlap_pct=0,\n",
    "    ),\n",
    "    CrossValidationExperiment(\n",
    "        model_class=ProphetModel,\n",
    "        params={\"seasonality_mode\": \"multiplicative\", },\n",
    "        data=Dataset(df=air_passengers_df, name=\"air_passengers\", freq=\"MS\"),\n",
    "        metrics=metrics,\n",
    "        test_percentage=0.10,\n",
    "        num_folds=3,\n",
    "        fold_overlap_pct=0,\n",
    "    ),\n",
    "]\n",
    "benchmark_cv = ManualCVBenchmark(\n",
    "    experiments=experiments,\n",
    "    metrics=metrics,\n",
    ")\n",
    "results_summary, results_train, results_test = benchmark_cv.run()"
   ]
  },
  {
   "cell_type": "code",
   "execution_count": 17,
   "id": "42dbdf41-4c39-4ed8-a42c-1ca52dba0938",
   "metadata": {},
   "outputs": [
    {
     "data": {
      "text/plain": "             data          model  \\\n0  air_passengers  NeuralProphet   \n1  air_passengers        Prophet   \n0  air_passengers  NeuralProphet   \n1  air_passengers        Prophet   \n\n                                              params  \\\n0  {'seasonality_mode': 'multiplicative', 'learni...   \n1  {'seasonality_mode': 'multiplicative', '_data_...   \n0  {'seasonality_mode': 'multiplicative', 'learni...   \n1  {'seasonality_mode': 'multiplicative', '_data_...   \n\n                                          experiment        MAE         MSE  \\\n0  air_passengers_NeuralProphet_seasonality_mode_...   6.005144   58.524780   \n1  air_passengers_Prophet_seasonality_mode_multip...   6.664346   76.019157   \n0  air_passengers_NeuralProphet_seasonality_mode_...  19.813911  597.305969   \n1  air_passengers_Prophet_seasonality_mode_multip...  19.145828  541.542786   \n\n        RMSE      MASE     RMSSE      MAPE     SMAPE   MAE_std     MSE_std  \\\n0   7.611626  0.281459  0.277852  3.026435  1.501690  0.659361   11.457359   \n1   8.628308  0.311314  0.313760  3.095889  1.556583  0.944400   20.777409   \n0  23.011145  0.919185  0.838727  4.712596  2.361495  8.777608  344.401245   \n1  22.903313  0.898355  0.839961  4.633598  2.285497  3.770983  179.169220   \n\n   RMSE_std  MASE_std  RMSSE_std  MAPE_std  SMAPE_std  split  \n0  0.766766  0.015282   0.009420  0.111288   0.055420  train  \n1  1.253572  0.020758   0.023332  0.253554   0.128683  train  \n0  8.233665  0.366786   0.286632  1.946631   1.008415   test  \n1  4.120811  0.157018   0.154204  0.681187   0.339349   test  ",
      "text/html": "<div>\n<style scoped>\n    .dataframe tbody tr th:only-of-type {\n        vertical-align: middle;\n    }\n\n    .dataframe tbody tr th {\n        vertical-align: top;\n    }\n\n    .dataframe thead th {\n        text-align: right;\n    }\n</style>\n<table border=\"1\" class=\"dataframe\">\n  <thead>\n    <tr style=\"text-align: right;\">\n      <th></th>\n      <th>data</th>\n      <th>model</th>\n      <th>params</th>\n      <th>experiment</th>\n      <th>MAE</th>\n      <th>MSE</th>\n      <th>RMSE</th>\n      <th>MASE</th>\n      <th>RMSSE</th>\n      <th>MAPE</th>\n      <th>SMAPE</th>\n      <th>MAE_std</th>\n      <th>MSE_std</th>\n      <th>RMSE_std</th>\n      <th>MASE_std</th>\n      <th>RMSSE_std</th>\n      <th>MAPE_std</th>\n      <th>SMAPE_std</th>\n      <th>split</th>\n    </tr>\n  </thead>\n  <tbody>\n    <tr>\n      <th>0</th>\n      <td>air_passengers</td>\n      <td>NeuralProphet</td>\n      <td>{'seasonality_mode': 'multiplicative', 'learni...</td>\n      <td>air_passengers_NeuralProphet_seasonality_mode_...</td>\n      <td>6.005144</td>\n      <td>58.524780</td>\n      <td>7.611626</td>\n      <td>0.281459</td>\n      <td>0.277852</td>\n      <td>3.026435</td>\n      <td>1.501690</td>\n      <td>0.659361</td>\n      <td>11.457359</td>\n      <td>0.766766</td>\n      <td>0.015282</td>\n      <td>0.009420</td>\n      <td>0.111288</td>\n      <td>0.055420</td>\n      <td>train</td>\n    </tr>\n    <tr>\n      <th>1</th>\n      <td>air_passengers</td>\n      <td>Prophet</td>\n      <td>{'seasonality_mode': 'multiplicative', '_data_...</td>\n      <td>air_passengers_Prophet_seasonality_mode_multip...</td>\n      <td>6.664346</td>\n      <td>76.019157</td>\n      <td>8.628308</td>\n      <td>0.311314</td>\n      <td>0.313760</td>\n      <td>3.095889</td>\n      <td>1.556583</td>\n      <td>0.944400</td>\n      <td>20.777409</td>\n      <td>1.253572</td>\n      <td>0.020758</td>\n      <td>0.023332</td>\n      <td>0.253554</td>\n      <td>0.128683</td>\n      <td>train</td>\n    </tr>\n    <tr>\n      <th>0</th>\n      <td>air_passengers</td>\n      <td>NeuralProphet</td>\n      <td>{'seasonality_mode': 'multiplicative', 'learni...</td>\n      <td>air_passengers_NeuralProphet_seasonality_mode_...</td>\n      <td>19.813911</td>\n      <td>597.305969</td>\n      <td>23.011145</td>\n      <td>0.919185</td>\n      <td>0.838727</td>\n      <td>4.712596</td>\n      <td>2.361495</td>\n      <td>8.777608</td>\n      <td>344.401245</td>\n      <td>8.233665</td>\n      <td>0.366786</td>\n      <td>0.286632</td>\n      <td>1.946631</td>\n      <td>1.008415</td>\n      <td>test</td>\n    </tr>\n    <tr>\n      <th>1</th>\n      <td>air_passengers</td>\n      <td>Prophet</td>\n      <td>{'seasonality_mode': 'multiplicative', '_data_...</td>\n      <td>air_passengers_Prophet_seasonality_mode_multip...</td>\n      <td>19.145828</td>\n      <td>541.542786</td>\n      <td>22.903313</td>\n      <td>0.898355</td>\n      <td>0.839961</td>\n      <td>4.633598</td>\n      <td>2.285497</td>\n      <td>3.770983</td>\n      <td>179.169220</td>\n      <td>4.120811</td>\n      <td>0.157018</td>\n      <td>0.154204</td>\n      <td>0.681187</td>\n      <td>0.339349</td>\n      <td>test</td>\n    </tr>\n  </tbody>\n</table>\n</div>"
     },
     "execution_count": 17,
     "metadata": {},
     "output_type": "execute_result"
    }
   ],
   "source": [
    "results_summary"
   ]
  },
  {
   "cell_type": "code",
   "execution_count": null,
   "id": "51c01c92-9cd4-47ed-9b53-60ac1b6caf98",
   "metadata": {},
   "outputs": [],
   "source": []
  }
 ],
 "metadata": {
  "kernelspec": {
   "name": "python3",
   "language": "python",
   "display_name": "Python 3 (ipykernel)"
  },
  "language_info": {
   "codemirror_mode": {
    "name": "ipython",
    "version": 3
   },
   "file_extension": ".py",
   "mimetype": "text/x-python",
   "name": "python",
   "nbconvert_exporter": "python",
   "pygments_lexer": "ipython3",
   "version": "3.9.7"
  }
 },
 "nbformat": 4,
 "nbformat_minor": 5
}